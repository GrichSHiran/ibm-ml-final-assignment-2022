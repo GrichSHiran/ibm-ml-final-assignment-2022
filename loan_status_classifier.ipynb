{
  "cells": [
    {
      "cell_type": "markdown",
      "metadata": {
        "button": false,
        "new_sheet": false,
        "run_control": {
          "read_only": false
        },
        "id": "D0_S3tcpPh69"
      },
      "source": [
        "<p style=\"text-align:center\">\n",
        "    <a href=\"https://skills.network/?utm_medium=Exinfluencer&utm_source=Exinfluencer&utm_content=000026UJ&utm_term=10006555&utm_id=NA-SkillsNetwork-Channel-SkillsNetworkCoursesIBMDeveloperSkillsNetworkML0101ENSkillsNetwork20718538-2022-01-01\" target=\"_blank\">\n",
        "    <img src=\"https://cf-courses-data.s3.us.cloud-object-storage.appdomain.cloud/assets/logos/SN_web_lightmode.png\" width=\"200\" alt=\"Skills Network Logo\"  />\n",
        "    </a>\n",
        "</p>\n",
        "\n",
        "<h1 align=\"center\"><font size=\"5\">Classification with Python</font></h1>\n"
      ]
    },
    {
      "cell_type": "markdown",
      "metadata": {
        "button": false,
        "new_sheet": false,
        "run_control": {
          "read_only": false
        },
        "id": "4xeefcQPPh7C"
      },
      "source": [
        "In this notebook we try to practice all the classification algorithms that we have learned in this course.\n",
        "\n",
        "We load a dataset using Pandas library, and apply the following algorithms, and find the best one for this specific dataset by accuracy evaluation methods.\n",
        "\n",
        "Let's first load required libraries:\n"
      ]
    },
    {
      "cell_type": "code",
      "execution_count": 128,
      "metadata": {
        "button": false,
        "new_sheet": false,
        "run_control": {
          "read_only": false
        },
        "id": "zpwvkJO7Ph7D"
      },
      "outputs": [],
      "source": [
        "import itertools\n",
        "import numpy as np\n",
        "import matplotlib.pyplot as plt\n",
        "from matplotlib.ticker import NullFormatter\n",
        "import pandas as pd\n",
        "import numpy as np\n",
        "import matplotlib.ticker as ticker\n",
        "from sklearn import preprocessing\n",
        "%matplotlib inline"
      ]
    },
    {
      "cell_type": "markdown",
      "metadata": {
        "button": false,
        "new_sheet": false,
        "run_control": {
          "read_only": false
        },
        "id": "YzjyS04yPh7F"
      },
      "source": [
        "### About dataset\n"
      ]
    },
    {
      "cell_type": "markdown",
      "metadata": {
        "button": false,
        "new_sheet": false,
        "run_control": {
          "read_only": false
        },
        "id": "9nqTDRK6Ph7F"
      },
      "source": [
        "This dataset is about past loans. The **Loan_train.csv** data set includes details of 346 customers whose loan are already paid off or defaulted. It includes following fields:\n",
        "\n",
        "| Field          | Description                                                                           |\n",
        "| -------------- | ------------------------------------------------------------------------------------- |\n",
        "| Loan_status    | Whether a loan is paid off on in collection                                           |\n",
        "| Principal      | Basic principal loan amount at the                                                    |\n",
        "| Terms          | Origination terms which can be weekly (7 days), biweekly, and monthly payoff schedule |\n",
        "| Effective_date | When the loan got originated and took effects                                         |\n",
        "| Due_date       | Since it’s one-time payoff schedule, each loan has one single due date                |\n",
        "| Age            | Age of applicant                                                                      |\n",
        "| Education      | Education of applicant                                                                |\n",
        "| Gender         | The gender of applicant                                                               |\n"
      ]
    },
    {
      "cell_type": "markdown",
      "metadata": {
        "button": false,
        "new_sheet": false,
        "run_control": {
          "read_only": false
        },
        "id": "y6mTJzNoPh7G"
      },
      "source": [
        "Let's download the dataset\n"
      ]
    },
    {
      "cell_type": "code",
      "execution_count": 129,
      "metadata": {
        "button": false,
        "new_sheet": false,
        "run_control": {
          "read_only": false
        },
        "id": "fwHD7WINPh7H",
        "outputId": "fa6b66ec-aa63-4426-c0c1-43fa06444355",
        "colab": {
          "base_uri": "https://localhost:8080/"
        }
      },
      "outputs": [
        {
          "output_type": "stream",
          "name": "stdout",
          "text": [
            "--2022-07-19 10:55:49--  https://cf-courses-data.s3.us.cloud-object-storage.appdomain.cloud/IBMDeveloperSkillsNetwork-ML0101EN-SkillsNetwork/labs/FinalModule_Coursera/data/loan_train.csv\n",
            "Resolving cf-courses-data.s3.us.cloud-object-storage.appdomain.cloud (cf-courses-data.s3.us.cloud-object-storage.appdomain.cloud)... 169.45.118.108\n",
            "Connecting to cf-courses-data.s3.us.cloud-object-storage.appdomain.cloud (cf-courses-data.s3.us.cloud-object-storage.appdomain.cloud)|169.45.118.108|:443... connected.\n",
            "HTTP request sent, awaiting response... 200 OK\n",
            "Length: 23101 (23K) [text/csv]\n",
            "Saving to: ‘loan_train.csv’\n",
            "\n",
            "loan_train.csv      100%[===================>]  22.56K  --.-KB/s    in 0.1s    \n",
            "\n",
            "2022-07-19 10:55:50 (155 KB/s) - ‘loan_train.csv’ saved [23101/23101]\n",
            "\n"
          ]
        }
      ],
      "source": [
        "\n",
        "!wget -O loan_train.csv https://cf-courses-data.s3.us.cloud-object-storage.appdomain.cloud/IBMDeveloperSkillsNetwork-ML0101EN-SkillsNetwork/labs/FinalModule_Coursera/data/loan_train.csv"
      ]
    },
    {
      "cell_type": "markdown",
      "metadata": {
        "button": false,
        "new_sheet": false,
        "run_control": {
          "read_only": false
        },
        "id": "fy4-1XeKPh7I"
      },
      "source": [
        "### Load Data From CSV File\n"
      ]
    },
    {
      "cell_type": "code",
      "execution_count": 130,
      "metadata": {
        "button": false,
        "new_sheet": false,
        "run_control": {
          "read_only": false
        },
        "id": "LOeGbdfxPh7I",
        "outputId": "8a670218-a0f6-4657-a53b-a6afb2338f2e",
        "colab": {
          "base_uri": "https://localhost:8080/",
          "height": 206
        }
      },
      "outputs": [
        {
          "output_type": "execute_result",
          "data": {
            "text/plain": [
              "   Unnamed: 0  Unnamed: 0.1 loan_status  Principal  terms effective_date  \\\n",
              "0           0             0     PAIDOFF       1000     30       9/8/2016   \n",
              "1           2             2     PAIDOFF       1000     30       9/8/2016   \n",
              "2           3             3     PAIDOFF       1000     15       9/8/2016   \n",
              "3           4             4     PAIDOFF       1000     30       9/9/2016   \n",
              "4           6             6     PAIDOFF       1000     30       9/9/2016   \n",
              "\n",
              "    due_date  age             education  Gender  \n",
              "0  10/7/2016   45  High School or Below    male  \n",
              "1  10/7/2016   33              Bechalor  female  \n",
              "2  9/22/2016   27               college    male  \n",
              "3  10/8/2016   28               college  female  \n",
              "4  10/8/2016   29               college    male  "
            ],
            "text/html": [
              "\n",
              "  <div id=\"df-261fac4a-29e6-48be-92a4-892484dde203\">\n",
              "    <div class=\"colab-df-container\">\n",
              "      <div>\n",
              "<style scoped>\n",
              "    .dataframe tbody tr th:only-of-type {\n",
              "        vertical-align: middle;\n",
              "    }\n",
              "\n",
              "    .dataframe tbody tr th {\n",
              "        vertical-align: top;\n",
              "    }\n",
              "\n",
              "    .dataframe thead th {\n",
              "        text-align: right;\n",
              "    }\n",
              "</style>\n",
              "<table border=\"1\" class=\"dataframe\">\n",
              "  <thead>\n",
              "    <tr style=\"text-align: right;\">\n",
              "      <th></th>\n",
              "      <th>Unnamed: 0</th>\n",
              "      <th>Unnamed: 0.1</th>\n",
              "      <th>loan_status</th>\n",
              "      <th>Principal</th>\n",
              "      <th>terms</th>\n",
              "      <th>effective_date</th>\n",
              "      <th>due_date</th>\n",
              "      <th>age</th>\n",
              "      <th>education</th>\n",
              "      <th>Gender</th>\n",
              "    </tr>\n",
              "  </thead>\n",
              "  <tbody>\n",
              "    <tr>\n",
              "      <th>0</th>\n",
              "      <td>0</td>\n",
              "      <td>0</td>\n",
              "      <td>PAIDOFF</td>\n",
              "      <td>1000</td>\n",
              "      <td>30</td>\n",
              "      <td>9/8/2016</td>\n",
              "      <td>10/7/2016</td>\n",
              "      <td>45</td>\n",
              "      <td>High School or Below</td>\n",
              "      <td>male</td>\n",
              "    </tr>\n",
              "    <tr>\n",
              "      <th>1</th>\n",
              "      <td>2</td>\n",
              "      <td>2</td>\n",
              "      <td>PAIDOFF</td>\n",
              "      <td>1000</td>\n",
              "      <td>30</td>\n",
              "      <td>9/8/2016</td>\n",
              "      <td>10/7/2016</td>\n",
              "      <td>33</td>\n",
              "      <td>Bechalor</td>\n",
              "      <td>female</td>\n",
              "    </tr>\n",
              "    <tr>\n",
              "      <th>2</th>\n",
              "      <td>3</td>\n",
              "      <td>3</td>\n",
              "      <td>PAIDOFF</td>\n",
              "      <td>1000</td>\n",
              "      <td>15</td>\n",
              "      <td>9/8/2016</td>\n",
              "      <td>9/22/2016</td>\n",
              "      <td>27</td>\n",
              "      <td>college</td>\n",
              "      <td>male</td>\n",
              "    </tr>\n",
              "    <tr>\n",
              "      <th>3</th>\n",
              "      <td>4</td>\n",
              "      <td>4</td>\n",
              "      <td>PAIDOFF</td>\n",
              "      <td>1000</td>\n",
              "      <td>30</td>\n",
              "      <td>9/9/2016</td>\n",
              "      <td>10/8/2016</td>\n",
              "      <td>28</td>\n",
              "      <td>college</td>\n",
              "      <td>female</td>\n",
              "    </tr>\n",
              "    <tr>\n",
              "      <th>4</th>\n",
              "      <td>6</td>\n",
              "      <td>6</td>\n",
              "      <td>PAIDOFF</td>\n",
              "      <td>1000</td>\n",
              "      <td>30</td>\n",
              "      <td>9/9/2016</td>\n",
              "      <td>10/8/2016</td>\n",
              "      <td>29</td>\n",
              "      <td>college</td>\n",
              "      <td>male</td>\n",
              "    </tr>\n",
              "  </tbody>\n",
              "</table>\n",
              "</div>\n",
              "      <button class=\"colab-df-convert\" onclick=\"convertToInteractive('df-261fac4a-29e6-48be-92a4-892484dde203')\"\n",
              "              title=\"Convert this dataframe to an interactive table.\"\n",
              "              style=\"display:none;\">\n",
              "        \n",
              "  <svg xmlns=\"http://www.w3.org/2000/svg\" height=\"24px\"viewBox=\"0 0 24 24\"\n",
              "       width=\"24px\">\n",
              "    <path d=\"M0 0h24v24H0V0z\" fill=\"none\"/>\n",
              "    <path d=\"M18.56 5.44l.94 2.06.94-2.06 2.06-.94-2.06-.94-.94-2.06-.94 2.06-2.06.94zm-11 1L8.5 8.5l.94-2.06 2.06-.94-2.06-.94L8.5 2.5l-.94 2.06-2.06.94zm10 10l.94 2.06.94-2.06 2.06-.94-2.06-.94-.94-2.06-.94 2.06-2.06.94z\"/><path d=\"M17.41 7.96l-1.37-1.37c-.4-.4-.92-.59-1.43-.59-.52 0-1.04.2-1.43.59L10.3 9.45l-7.72 7.72c-.78.78-.78 2.05 0 2.83L4 21.41c.39.39.9.59 1.41.59.51 0 1.02-.2 1.41-.59l7.78-7.78 2.81-2.81c.8-.78.8-2.07 0-2.86zM5.41 20L4 18.59l7.72-7.72 1.47 1.35L5.41 20z\"/>\n",
              "  </svg>\n",
              "      </button>\n",
              "      \n",
              "  <style>\n",
              "    .colab-df-container {\n",
              "      display:flex;\n",
              "      flex-wrap:wrap;\n",
              "      gap: 12px;\n",
              "    }\n",
              "\n",
              "    .colab-df-convert {\n",
              "      background-color: #E8F0FE;\n",
              "      border: none;\n",
              "      border-radius: 50%;\n",
              "      cursor: pointer;\n",
              "      display: none;\n",
              "      fill: #1967D2;\n",
              "      height: 32px;\n",
              "      padding: 0 0 0 0;\n",
              "      width: 32px;\n",
              "    }\n",
              "\n",
              "    .colab-df-convert:hover {\n",
              "      background-color: #E2EBFA;\n",
              "      box-shadow: 0px 1px 2px rgba(60, 64, 67, 0.3), 0px 1px 3px 1px rgba(60, 64, 67, 0.15);\n",
              "      fill: #174EA6;\n",
              "    }\n",
              "\n",
              "    [theme=dark] .colab-df-convert {\n",
              "      background-color: #3B4455;\n",
              "      fill: #D2E3FC;\n",
              "    }\n",
              "\n",
              "    [theme=dark] .colab-df-convert:hover {\n",
              "      background-color: #434B5C;\n",
              "      box-shadow: 0px 1px 3px 1px rgba(0, 0, 0, 0.15);\n",
              "      filter: drop-shadow(0px 1px 2px rgba(0, 0, 0, 0.3));\n",
              "      fill: #FFFFFF;\n",
              "    }\n",
              "  </style>\n",
              "\n",
              "      <script>\n",
              "        const buttonEl =\n",
              "          document.querySelector('#df-261fac4a-29e6-48be-92a4-892484dde203 button.colab-df-convert');\n",
              "        buttonEl.style.display =\n",
              "          google.colab.kernel.accessAllowed ? 'block' : 'none';\n",
              "\n",
              "        async function convertToInteractive(key) {\n",
              "          const element = document.querySelector('#df-261fac4a-29e6-48be-92a4-892484dde203');\n",
              "          const dataTable =\n",
              "            await google.colab.kernel.invokeFunction('convertToInteractive',\n",
              "                                                     [key], {});\n",
              "          if (!dataTable) return;\n",
              "\n",
              "          const docLinkHtml = 'Like what you see? Visit the ' +\n",
              "            '<a target=\"_blank\" href=https://colab.research.google.com/notebooks/data_table.ipynb>data table notebook</a>'\n",
              "            + ' to learn more about interactive tables.';\n",
              "          element.innerHTML = '';\n",
              "          dataTable['output_type'] = 'display_data';\n",
              "          await google.colab.output.renderOutput(dataTable, element);\n",
              "          const docLink = document.createElement('div');\n",
              "          docLink.innerHTML = docLinkHtml;\n",
              "          element.appendChild(docLink);\n",
              "        }\n",
              "      </script>\n",
              "    </div>\n",
              "  </div>\n",
              "  "
            ]
          },
          "metadata": {},
          "execution_count": 130
        }
      ],
      "source": [
        "df = pd.read_csv('loan_train.csv')\n",
        "df.head()"
      ]
    },
    {
      "cell_type": "code",
      "execution_count": 131,
      "metadata": {
        "id": "CQI-WcSDPh7J",
        "outputId": "51272f43-709e-41c3-ffb1-fe1532fed484",
        "colab": {
          "base_uri": "https://localhost:8080/"
        }
      },
      "outputs": [
        {
          "output_type": "execute_result",
          "data": {
            "text/plain": [
              "(346, 10)"
            ]
          },
          "metadata": {},
          "execution_count": 131
        }
      ],
      "source": [
        "df.shape"
      ]
    },
    {
      "cell_type": "markdown",
      "metadata": {
        "button": false,
        "new_sheet": false,
        "run_control": {
          "read_only": false
        },
        "id": "oLyRYPWFPh7J"
      },
      "source": [
        "### Convert to date time object\n"
      ]
    },
    {
      "cell_type": "code",
      "execution_count": 132,
      "metadata": {
        "button": false,
        "new_sheet": false,
        "run_control": {
          "read_only": false
        },
        "id": "Rm-z-BVLPh7K",
        "outputId": "df713b32-20f4-4f74-ae82-1302ad24d12a",
        "colab": {
          "base_uri": "https://localhost:8080/",
          "height": 206
        }
      },
      "outputs": [
        {
          "output_type": "execute_result",
          "data": {
            "text/plain": [
              "   Unnamed: 0  Unnamed: 0.1 loan_status  Principal  terms effective_date  \\\n",
              "0           0             0     PAIDOFF       1000     30     2016-09-08   \n",
              "1           2             2     PAIDOFF       1000     30     2016-09-08   \n",
              "2           3             3     PAIDOFF       1000     15     2016-09-08   \n",
              "3           4             4     PAIDOFF       1000     30     2016-09-09   \n",
              "4           6             6     PAIDOFF       1000     30     2016-09-09   \n",
              "\n",
              "    due_date  age             education  Gender  \n",
              "0 2016-10-07   45  High School or Below    male  \n",
              "1 2016-10-07   33              Bechalor  female  \n",
              "2 2016-09-22   27               college    male  \n",
              "3 2016-10-08   28               college  female  \n",
              "4 2016-10-08   29               college    male  "
            ],
            "text/html": [
              "\n",
              "  <div id=\"df-337e6466-5940-41e4-9e0a-1264d061742b\">\n",
              "    <div class=\"colab-df-container\">\n",
              "      <div>\n",
              "<style scoped>\n",
              "    .dataframe tbody tr th:only-of-type {\n",
              "        vertical-align: middle;\n",
              "    }\n",
              "\n",
              "    .dataframe tbody tr th {\n",
              "        vertical-align: top;\n",
              "    }\n",
              "\n",
              "    .dataframe thead th {\n",
              "        text-align: right;\n",
              "    }\n",
              "</style>\n",
              "<table border=\"1\" class=\"dataframe\">\n",
              "  <thead>\n",
              "    <tr style=\"text-align: right;\">\n",
              "      <th></th>\n",
              "      <th>Unnamed: 0</th>\n",
              "      <th>Unnamed: 0.1</th>\n",
              "      <th>loan_status</th>\n",
              "      <th>Principal</th>\n",
              "      <th>terms</th>\n",
              "      <th>effective_date</th>\n",
              "      <th>due_date</th>\n",
              "      <th>age</th>\n",
              "      <th>education</th>\n",
              "      <th>Gender</th>\n",
              "    </tr>\n",
              "  </thead>\n",
              "  <tbody>\n",
              "    <tr>\n",
              "      <th>0</th>\n",
              "      <td>0</td>\n",
              "      <td>0</td>\n",
              "      <td>PAIDOFF</td>\n",
              "      <td>1000</td>\n",
              "      <td>30</td>\n",
              "      <td>2016-09-08</td>\n",
              "      <td>2016-10-07</td>\n",
              "      <td>45</td>\n",
              "      <td>High School or Below</td>\n",
              "      <td>male</td>\n",
              "    </tr>\n",
              "    <tr>\n",
              "      <th>1</th>\n",
              "      <td>2</td>\n",
              "      <td>2</td>\n",
              "      <td>PAIDOFF</td>\n",
              "      <td>1000</td>\n",
              "      <td>30</td>\n",
              "      <td>2016-09-08</td>\n",
              "      <td>2016-10-07</td>\n",
              "      <td>33</td>\n",
              "      <td>Bechalor</td>\n",
              "      <td>female</td>\n",
              "    </tr>\n",
              "    <tr>\n",
              "      <th>2</th>\n",
              "      <td>3</td>\n",
              "      <td>3</td>\n",
              "      <td>PAIDOFF</td>\n",
              "      <td>1000</td>\n",
              "      <td>15</td>\n",
              "      <td>2016-09-08</td>\n",
              "      <td>2016-09-22</td>\n",
              "      <td>27</td>\n",
              "      <td>college</td>\n",
              "      <td>male</td>\n",
              "    </tr>\n",
              "    <tr>\n",
              "      <th>3</th>\n",
              "      <td>4</td>\n",
              "      <td>4</td>\n",
              "      <td>PAIDOFF</td>\n",
              "      <td>1000</td>\n",
              "      <td>30</td>\n",
              "      <td>2016-09-09</td>\n",
              "      <td>2016-10-08</td>\n",
              "      <td>28</td>\n",
              "      <td>college</td>\n",
              "      <td>female</td>\n",
              "    </tr>\n",
              "    <tr>\n",
              "      <th>4</th>\n",
              "      <td>6</td>\n",
              "      <td>6</td>\n",
              "      <td>PAIDOFF</td>\n",
              "      <td>1000</td>\n",
              "      <td>30</td>\n",
              "      <td>2016-09-09</td>\n",
              "      <td>2016-10-08</td>\n",
              "      <td>29</td>\n",
              "      <td>college</td>\n",
              "      <td>male</td>\n",
              "    </tr>\n",
              "  </tbody>\n",
              "</table>\n",
              "</div>\n",
              "      <button class=\"colab-df-convert\" onclick=\"convertToInteractive('df-337e6466-5940-41e4-9e0a-1264d061742b')\"\n",
              "              title=\"Convert this dataframe to an interactive table.\"\n",
              "              style=\"display:none;\">\n",
              "        \n",
              "  <svg xmlns=\"http://www.w3.org/2000/svg\" height=\"24px\"viewBox=\"0 0 24 24\"\n",
              "       width=\"24px\">\n",
              "    <path d=\"M0 0h24v24H0V0z\" fill=\"none\"/>\n",
              "    <path d=\"M18.56 5.44l.94 2.06.94-2.06 2.06-.94-2.06-.94-.94-2.06-.94 2.06-2.06.94zm-11 1L8.5 8.5l.94-2.06 2.06-.94-2.06-.94L8.5 2.5l-.94 2.06-2.06.94zm10 10l.94 2.06.94-2.06 2.06-.94-2.06-.94-.94-2.06-.94 2.06-2.06.94z\"/><path d=\"M17.41 7.96l-1.37-1.37c-.4-.4-.92-.59-1.43-.59-.52 0-1.04.2-1.43.59L10.3 9.45l-7.72 7.72c-.78.78-.78 2.05 0 2.83L4 21.41c.39.39.9.59 1.41.59.51 0 1.02-.2 1.41-.59l7.78-7.78 2.81-2.81c.8-.78.8-2.07 0-2.86zM5.41 20L4 18.59l7.72-7.72 1.47 1.35L5.41 20z\"/>\n",
              "  </svg>\n",
              "      </button>\n",
              "      \n",
              "  <style>\n",
              "    .colab-df-container {\n",
              "      display:flex;\n",
              "      flex-wrap:wrap;\n",
              "      gap: 12px;\n",
              "    }\n",
              "\n",
              "    .colab-df-convert {\n",
              "      background-color: #E8F0FE;\n",
              "      border: none;\n",
              "      border-radius: 50%;\n",
              "      cursor: pointer;\n",
              "      display: none;\n",
              "      fill: #1967D2;\n",
              "      height: 32px;\n",
              "      padding: 0 0 0 0;\n",
              "      width: 32px;\n",
              "    }\n",
              "\n",
              "    .colab-df-convert:hover {\n",
              "      background-color: #E2EBFA;\n",
              "      box-shadow: 0px 1px 2px rgba(60, 64, 67, 0.3), 0px 1px 3px 1px rgba(60, 64, 67, 0.15);\n",
              "      fill: #174EA6;\n",
              "    }\n",
              "\n",
              "    [theme=dark] .colab-df-convert {\n",
              "      background-color: #3B4455;\n",
              "      fill: #D2E3FC;\n",
              "    }\n",
              "\n",
              "    [theme=dark] .colab-df-convert:hover {\n",
              "      background-color: #434B5C;\n",
              "      box-shadow: 0px 1px 3px 1px rgba(0, 0, 0, 0.15);\n",
              "      filter: drop-shadow(0px 1px 2px rgba(0, 0, 0, 0.3));\n",
              "      fill: #FFFFFF;\n",
              "    }\n",
              "  </style>\n",
              "\n",
              "      <script>\n",
              "        const buttonEl =\n",
              "          document.querySelector('#df-337e6466-5940-41e4-9e0a-1264d061742b button.colab-df-convert');\n",
              "        buttonEl.style.display =\n",
              "          google.colab.kernel.accessAllowed ? 'block' : 'none';\n",
              "\n",
              "        async function convertToInteractive(key) {\n",
              "          const element = document.querySelector('#df-337e6466-5940-41e4-9e0a-1264d061742b');\n",
              "          const dataTable =\n",
              "            await google.colab.kernel.invokeFunction('convertToInteractive',\n",
              "                                                     [key], {});\n",
              "          if (!dataTable) return;\n",
              "\n",
              "          const docLinkHtml = 'Like what you see? Visit the ' +\n",
              "            '<a target=\"_blank\" href=https://colab.research.google.com/notebooks/data_table.ipynb>data table notebook</a>'\n",
              "            + ' to learn more about interactive tables.';\n",
              "          element.innerHTML = '';\n",
              "          dataTable['output_type'] = 'display_data';\n",
              "          await google.colab.output.renderOutput(dataTable, element);\n",
              "          const docLink = document.createElement('div');\n",
              "          docLink.innerHTML = docLinkHtml;\n",
              "          element.appendChild(docLink);\n",
              "        }\n",
              "      </script>\n",
              "    </div>\n",
              "  </div>\n",
              "  "
            ]
          },
          "metadata": {},
          "execution_count": 132
        }
      ],
      "source": [
        "df['due_date'] = pd.to_datetime(df['due_date'])\n",
        "df['effective_date'] = pd.to_datetime(df['effective_date'])\n",
        "df.head()"
      ]
    },
    {
      "cell_type": "markdown",
      "metadata": {
        "button": false,
        "new_sheet": false,
        "run_control": {
          "read_only": false
        },
        "id": "TAOS8go6Ph7K"
      },
      "source": [
        "# Data visualization and pre-processing\n"
      ]
    },
    {
      "cell_type": "markdown",
      "metadata": {
        "button": false,
        "new_sheet": false,
        "run_control": {
          "read_only": false
        },
        "id": "D8Omie7sPh7K"
      },
      "source": [
        "Let’s see how many of each class is in our data set\n"
      ]
    },
    {
      "cell_type": "code",
      "execution_count": 133,
      "metadata": {
        "button": false,
        "new_sheet": false,
        "run_control": {
          "read_only": false
        },
        "id": "jeUjKLXRPh7L",
        "outputId": "1581d918-23e0-472b-b1e9-f4d0314c1418",
        "colab": {
          "base_uri": "https://localhost:8080/"
        }
      },
      "outputs": [
        {
          "output_type": "execute_result",
          "data": {
            "text/plain": [
              "1000    258\n",
              "800      81\n",
              "300       3\n",
              "900       2\n",
              "500       2\n",
              "Name: Principal, dtype: int64"
            ]
          },
          "metadata": {},
          "execution_count": 133
        }
      ],
      "source": [
        "# df['loan_status'].value_counts()\n",
        "df['Principal'].value_counts()"
      ]
    },
    {
      "cell_type": "markdown",
      "metadata": {
        "button": false,
        "new_sheet": false,
        "run_control": {
          "read_only": false
        },
        "id": "N_yozqtmPh7L"
      },
      "source": [
        "260 people have paid off the loan on time while 86 have gone into collection\n"
      ]
    },
    {
      "cell_type": "markdown",
      "metadata": {
        "id": "gcDpU8j-Ph7M"
      },
      "source": [
        "Let's plot some columns to underestand data better:\n"
      ]
    },
    {
      "cell_type": "code",
      "execution_count": 134,
      "metadata": {
        "id": "wK7OoVobPh7M"
      },
      "outputs": [],
      "source": [
        "# notice: installing seaborn might takes a few minutes\n",
        "# !conda install -c anaconda seaborn -y"
      ]
    },
    {
      "cell_type": "code",
      "execution_count": 135,
      "metadata": {
        "id": "wIQF1B9QPh7M",
        "outputId": "d35a5730-a223-49fe-8a01-3495ec188133",
        "colab": {
          "base_uri": "https://localhost:8080/",
          "height": 225
        }
      },
      "outputs": [
        {
          "output_type": "display_data",
          "data": {
            "text/plain": [
              "<Figure size 432x216 with 2 Axes>"
            ],
            "image/png": "[encoded data removed]"
          },
          "metadata": {
            "needs_background": "light"
          }
        }
      ],
      "source": [
        "import seaborn as sns\n",
        "\n",
        "bins = np.linspace(df.Principal.min(), df.Principal.max(), 10)\n",
        "g = sns.FacetGrid(df, col=\"Gender\", hue=\"loan_status\", palette=\"Set1\", col_wrap=2)\n",
        "g.map(plt.hist, 'Principal', bins=bins, ec=\"k\")\n",
        "\n",
        "g.axes[-1].legend()\n",
        "plt.show()"
      ]
    },
    {
      "cell_type": "code",
      "execution_count": 136,
      "metadata": {
        "button": false,
        "new_sheet": false,
        "run_control": {
          "read_only": false
        },
        "id": "0e_xzeZVPh7N",
        "outputId": "9c8a8d96-a29b-420a-a4a4-51ea1d5fc535",
        "colab": {
          "base_uri": "https://localhost:8080/",
          "height": 225
        }
      },
      "outputs": [
        {
          "output_type": "display_data",
          "data": {
            "text/plain": [
              "<Figure size 432x216 with 2 Axes>"
            ],
            "image/png": "[encoded data removed]"
          },
          "metadata": {
            "needs_background": "light"
          }
        }
      ],
      "source": [
        "bins = np.linspace(df.age.min(), df.age.max(), 10)\n",
        "g = sns.FacetGrid(df, col=\"Gender\", hue=\"loan_status\", palette=\"Set1\", col_wrap=2)\n",
        "g.map(plt.hist, 'age', bins=bins, ec=\"k\")\n",
        "\n",
        "g.axes[-1].legend()\n",
        "plt.show()"
      ]
    },
    {
      "cell_type": "markdown",
      "metadata": {
        "button": false,
        "new_sheet": false,
        "run_control": {
          "read_only": false
        },
        "id": "9cQiNhd4Ph7N"
      },
      "source": [
        "# Pre-processing:  Feature selection/extraction\n"
      ]
    },
    {
      "cell_type": "markdown",
      "metadata": {
        "button": false,
        "new_sheet": false,
        "run_control": {
          "read_only": false
        },
        "id": "_SHAiNcUPh7N"
      },
      "source": [
        "### Let's look at the day of the week people get the loan\n"
      ]
    },
    {
      "cell_type": "code",
      "execution_count": 137,
      "metadata": {
        "button": false,
        "new_sheet": false,
        "run_control": {
          "read_only": false
        },
        "id": "JqVZtrOMPh7O",
        "outputId": "421ff25f-d9a7-4835-ecd3-e28c11ff6757",
        "colab": {
          "base_uri": "https://localhost:8080/",
          "height": 225
        }
      },
      "outputs": [
        {
          "output_type": "display_data",
          "data": {
            "text/plain": [
              "<Figure size 432x216 with 2 Axes>"
            ],
            "image/png": "[encoded data removed]"
          },
          "metadata": {
            "needs_background": "light"
          }
        }
      ],
      "source": [
        "df['dayofweek'] = df['effective_date'].dt.dayofweek\n",
        "bins = np.linspace(df.dayofweek.min(), df.dayofweek.max(), 10)\n",
        "g = sns.FacetGrid(df, col=\"Gender\", hue=\"loan_status\", palette=\"Set1\", col_wrap=2)\n",
        "g.map(plt.hist, 'dayofweek', bins=bins, ec=\"k\")\n",
        "g.axes[-1].legend()\n",
        "plt.show()\n"
      ]
    },
    {
      "cell_type": "markdown",
      "metadata": {
        "button": false,
        "new_sheet": false,
        "run_control": {
          "read_only": false
        },
        "id": "ysOc5Z8vPh7O"
      },
      "source": [
        "We see that people who get the loan at the end of the week don't pay it off, so let's use Feature binarization to set a threshold value less than day 4\n"
      ]
    },
    {
      "cell_type": "code",
      "execution_count": 138,
      "metadata": {
        "button": false,
        "new_sheet": false,
        "run_control": {
          "read_only": false
        },
        "id": "PNow7JdfPh7O",
        "outputId": "b0d74559-6e27-4c50-cb9b-13ec8423eb16",
        "colab": {
          "base_uri": "https://localhost:8080/",
          "height": 206
        }
      },
      "outputs": [
        {
          "output_type": "execute_result",
          "data": {
            "text/plain": [
              "   Unnamed: 0  Unnamed: 0.1 loan_status  Principal  terms effective_date  \\\n",
              "0           0             0     PAIDOFF       1000     30     2016-09-08   \n",
              "1           2             2     PAIDOFF       1000     30     2016-09-08   \n",
              "2           3             3     PAIDOFF       1000     15     2016-09-08   \n",
              "3           4             4     PAIDOFF       1000     30     2016-09-09   \n",
              "4           6             6     PAIDOFF       1000     30     2016-09-09   \n",
              "\n",
              "    due_date  age             education  Gender  dayofweek  weekend  \n",
              "0 2016-10-07   45  High School or Below    male          3        0  \n",
              "1 2016-10-07   33              Bechalor  female          3        0  \n",
              "2 2016-09-22   27               college    male          3        0  \n",
              "3 2016-10-08   28               college  female          4        1  \n",
              "4 2016-10-08   29               college    male          4        1  "
            ],
            "text/html": [
              "\n",
              "  <div id=\"df-84456700-3e05-4104-a82a-76b765be5935\">\n",
              "    <div class=\"colab-df-container\">\n",
              "      <div>\n",
              "<style scoped>\n",
              "    .dataframe tbody tr th:only-of-type {\n",
              "        vertical-align: middle;\n",
              "    }\n",
              "\n",
              "    .dataframe tbody tr th {\n",
              "        vertical-align: top;\n",
              "    }\n",
              "\n",
              "    .dataframe thead th {\n",
              "        text-align: right;\n",
              "    }\n",
              "</style>\n",
              "<table border=\"1\" class=\"dataframe\">\n",
              "  <thead>\n",
              "    <tr style=\"text-align: right;\">\n",
              "      <th></th>\n",
              "      <th>Unnamed: 0</th>\n",
              "      <th>Unnamed: 0.1</th>\n",
              "      <th>loan_status</th>\n",
              "      <th>Principal</th>\n",
              "      <th>terms</th>\n",
              "      <th>effective_date</th>\n",
              "      <th>due_date</th>\n",
              "      <th>age</th>\n",
              "      <th>education</th>\n",
              "      <th>Gender</th>\n",
              "      <th>dayofweek</th>\n",
              "      <th>weekend</th>\n",
              "    </tr>\n",
              "  </thead>\n",
              "  <tbody>\n",
              "    <tr>\n",
              "      <th>0</th>\n",
              "      <td>0</td>\n",
              "      <td>0</td>\n",
              "      <td>PAIDOFF</td>\n",
              "      <td>1000</td>\n",
              "      <td>30</td>\n",
              "      <td>2016-09-08</td>\n",
              "      <td>2016-10-07</td>\n",
              "      <td>45</td>\n",
              "      <td>High School or Below</td>\n",
              "      <td>male</td>\n",
              "      <td>3</td>\n",
              "      <td>0</td>\n",
              "    </tr>\n",
              "    <tr>\n",
              "      <th>1</th>\n",
              "      <td>2</td>\n",
              "      <td>2</td>\n",
              "      <td>PAIDOFF</td>\n",
              "      <td>1000</td>\n",
              "      <td>30</td>\n",
              "      <td>2016-09-08</td>\n",
              "      <td>2016-10-07</td>\n",
              "      <td>33</td>\n",
              "      <td>Bechalor</td>\n",
              "      <td>female</td>\n",
              "      <td>3</td>\n",
              "      <td>0</td>\n",
              "    </tr>\n",
              "    <tr>\n",
              "      <th>2</th>\n",
              "      <td>3</td>\n",
              "      <td>3</td>\n",
              "      <td>PAIDOFF</td>\n",
              "      <td>1000</td>\n",
              "      <td>15</td>\n",
              "      <td>2016-09-08</td>\n",
              "      <td>2016-09-22</td>\n",
              "      <td>27</td>\n",
              "      <td>college</td>\n",
              "      <td>male</td>\n",
              "      <td>3</td>\n",
              "      <td>0</td>\n",
              "    </tr>\n",
              "    <tr>\n",
              "      <th>3</th>\n",
              "      <td>4</td>\n",
              "      <td>4</td>\n",
              "      <td>PAIDOFF</td>\n",
              "      <td>1000</td>\n",
              "      <td>30</td>\n",
              "      <td>2016-09-09</td>\n",
              "      <td>2016-10-08</td>\n",
              "      <td>28</td>\n",
              "      <td>college</td>\n",
              "      <td>female</td>\n",
              "      <td>4</td>\n",
              "      <td>1</td>\n",
              "    </tr>\n",
              "    <tr>\n",
              "      <th>4</th>\n",
              "      <td>6</td>\n",
              "      <td>6</td>\n",
              "      <td>PAIDOFF</td>\n",
              "      <td>1000</td>\n",
              "      <td>30</td>\n",
              "      <td>2016-09-09</td>\n",
              "      <td>2016-10-08</td>\n",
              "      <td>29</td>\n",
              "      <td>college</td>\n",
              "      <td>male</td>\n",
              "      <td>4</td>\n",
              "      <td>1</td>\n",
              "    </tr>\n",
              "  </tbody>\n",
              "</table>\n",
              "</div>\n",
              "      <button class=\"colab-df-convert\" onclick=\"convertToInteractive('df-84456700-3e05-4104-a82a-76b765be5935')\"\n",
              "              title=\"Convert this dataframe to an interactive table.\"\n",
              "              style=\"display:none;\">\n",
              "        \n",
              "  <svg xmlns=\"http://www.w3.org/2000/svg\" height=\"24px\"viewBox=\"0 0 24 24\"\n",
              "       width=\"24px\">\n",
              "    <path d=\"M0 0h24v24H0V0z\" fill=\"none\"/>\n",
              "    <path d=\"M18.56 5.44l.94 2.06.94-2.06 2.06-.94-2.06-.94-.94-2.06-.94 2.06-2.06.94zm-11 1L8.5 8.5l.94-2.06 2.06-.94-2.06-.94L8.5 2.5l-.94 2.06-2.06.94zm10 10l.94 2.06.94-2.06 2.06-.94-2.06-.94-.94-2.06-.94 2.06-2.06.94z\"/><path d=\"M17.41 7.96l-1.37-1.37c-.4-.4-.92-.59-1.43-.59-.52 0-1.04.2-1.43.59L10.3 9.45l-7.72 7.72c-.78.78-.78 2.05 0 2.83L4 21.41c.39.39.9.59 1.41.59.51 0 1.02-.2 1.41-.59l7.78-7.78 2.81-2.81c.8-.78.8-2.07 0-2.86zM5.41 20L4 18.59l7.72-7.72 1.47 1.35L5.41 20z\"/>\n",
              "  </svg>\n",
              "      </button>\n",
              "      \n",
              "  <style>\n",
              "    .colab-df-container {\n",
              "      display:flex;\n",
              "      flex-wrap:wrap;\n",
              "      gap: 12px;\n",
              "    }\n",
              "\n",
              "    .colab-df-convert {\n",
              "      background-color: #E8F0FE;\n",
              "      border: none;\n",
              "      border-radius: 50%;\n",
              "      cursor: pointer;\n",
              "      display: none;\n",
              "      fill: #1967D2;\n",
              "      height: 32px;\n",
              "      padding: 0 0 0 0;\n",
              "      width: 32px;\n",
              "    }\n",
              "\n",
              "    .colab-df-convert:hover {\n",
              "      background-color: #E2EBFA;\n",
              "      box-shadow: 0px 1px 2px rgba(60, 64, 67, 0.3), 0px 1px 3px 1px rgba(60, 64, 67, 0.15);\n",
              "      fill: #174EA6;\n",
              "    }\n",
              "\n",
              "    [theme=dark] .colab-df-convert {\n",
              "      background-color: #3B4455;\n",
              "      fill: #D2E3FC;\n",
              "    }\n",
              "\n",
              "    [theme=dark] .colab-df-convert:hover {\n",
              "      background-color: #434B5C;\n",
              "      box-shadow: 0px 1px 3px 1px rgba(0, 0, 0, 0.15);\n",
              "      filter: drop-shadow(0px 1px 2px rgba(0, 0, 0, 0.3));\n",
              "      fill: #FFFFFF;\n",
              "    }\n",
              "  </style>\n",
              "\n",
              "      <script>\n",
              "        const buttonEl =\n",
              "          document.querySelector('#df-84456700-3e05-4104-a82a-76b765be5935 button.colab-df-convert');\n",
              "        buttonEl.style.display =\n",
              "          google.colab.kernel.accessAllowed ? 'block' : 'none';\n",
              "\n",
              "        async function convertToInteractive(key) {\n",
              "          const element = document.querySelector('#df-84456700-3e05-4104-a82a-76b765be5935');\n",
              "          const dataTable =\n",
              "            await google.colab.kernel.invokeFunction('convertToInteractive',\n",
              "                                                     [key], {});\n",
              "          if (!dataTable) return;\n",
              "\n",
              "          const docLinkHtml = 'Like what you see? Visit the ' +\n",
              "            '<a target=\"_blank\" href=https://colab.research.google.com/notebooks/data_table.ipynb>data table notebook</a>'\n",
              "            + ' to learn more about interactive tables.';\n",
              "          element.innerHTML = '';\n",
              "          dataTable['output_type'] = 'display_data';\n",
              "          await google.colab.output.renderOutput(dataTable, element);\n",
              "          const docLink = document.createElement('div');\n",
              "          docLink.innerHTML = docLinkHtml;\n",
              "          element.appendChild(docLink);\n",
              "        }\n",
              "      </script>\n",
              "    </div>\n",
              "  </div>\n",
              "  "
            ]
          },
          "metadata": {},
          "execution_count": 138
        }
      ],
      "source": [
        "df['weekend'] = df['dayofweek'].apply(lambda x: 1 if (x>3)  else 0)\n",
        "df.head()"
      ]
    },
    {
      "cell_type": "markdown",
      "metadata": {
        "button": false,
        "new_sheet": false,
        "run_control": {
          "read_only": false
        },
        "id": "IhCshcF6Ph7P"
      },
      "source": [
        "## Convert Categorical features to numerical values\n"
      ]
    },
    {
      "cell_type": "markdown",
      "metadata": {
        "button": false,
        "new_sheet": false,
        "run_control": {
          "read_only": false
        },
        "id": "mYuvPXxvPh7P"
      },
      "source": [
        "Let's look at gender:\n"
      ]
    },
    {
      "cell_type": "code",
      "execution_count": 139,
      "metadata": {
        "button": false,
        "new_sheet": false,
        "run_control": {
          "read_only": false
        },
        "id": "efLAWY6MPh7P",
        "outputId": "d8f9dccd-fa56-4428-f14f-cb368a6f29cf",
        "colab": {
          "base_uri": "https://localhost:8080/"
        }
      },
      "outputs": [
        {
          "output_type": "execute_result",
          "data": {
            "text/plain": [
              "Gender  loan_status\n",
              "female  PAIDOFF        0.865385\n",
              "        COLLECTION     0.134615\n",
              "male    PAIDOFF        0.731293\n",
              "        COLLECTION     0.268707\n",
              "Name: loan_status, dtype: float64"
            ]
          },
          "metadata": {},
          "execution_count": 139
        }
      ],
      "source": [
        "df.groupby(['Gender'])['loan_status'].value_counts(normalize=True)"
      ]
    },
    {
      "cell_type": "markdown",
      "metadata": {
        "button": false,
        "new_sheet": false,
        "run_control": {
          "read_only": false
        },
        "id": "DNBtbV-zPh7P"
      },
      "source": [
        "86 % of female pay there loans while only 73 % of males pay there loan\n"
      ]
    },
    {
      "cell_type": "markdown",
      "metadata": {
        "button": false,
        "new_sheet": false,
        "run_control": {
          "read_only": false
        },
        "id": "ESrn_btEPh7Q"
      },
      "source": [
        "Let's convert male to 0 and female to 1:\n"
      ]
    },
    {
      "cell_type": "code",
      "execution_count": 140,
      "metadata": {
        "button": false,
        "new_sheet": false,
        "run_control": {
          "read_only": false
        },
        "id": "tcpss8HMPh7Q",
        "outputId": "9a9dfbcb-b7de-4408-b2e8-0142aa76ebe6",
        "colab": {
          "base_uri": "https://localhost:8080/",
          "height": 206
        }
      },
      "outputs": [
        {
          "output_type": "execute_result",
          "data": {
            "text/plain": [
              "   Unnamed: 0  Unnamed: 0.1  loan_status  Principal  terms effective_date  \\\n",
              "0           0             0            0       1000     30     2016-09-08   \n",
              "1           2             2            0       1000     30     2016-09-08   \n",
              "2           3             3            0       1000     15     2016-09-08   \n",
              "3           4             4            0       1000     30     2016-09-09   \n",
              "4           6             6            0       1000     30     2016-09-09   \n",
              "\n",
              "    due_date  age             education  Gender  dayofweek  weekend  \n",
              "0 2016-10-07   45  High School or Below       0          3        0  \n",
              "1 2016-10-07   33              Bechalor       1          3        0  \n",
              "2 2016-09-22   27               college       0          3        0  \n",
              "3 2016-10-08   28               college       1          4        1  \n",
              "4 2016-10-08   29               college       0          4        1  "
            ],
            "text/html": [
              "\n",
              "  <div id=\"df-455d47ff-ea06-425a-885b-9d52243355d9\">\n",
              "    <div class=\"colab-df-container\">\n",
              "      <div>\n",
              "<style scoped>\n",
              "    .dataframe tbody tr th:only-of-type {\n",
              "        vertical-align: middle;\n",
              "    }\n",
              "\n",
              "    .dataframe tbody tr th {\n",
              "        vertical-align: top;\n",
              "    }\n",
              "\n",
              "    .dataframe thead th {\n",
              "        text-align: right;\n",
              "    }\n",
              "</style>\n",
              "<table border=\"1\" class=\"dataframe\">\n",
              "  <thead>\n",
              "    <tr style=\"text-align: right;\">\n",
              "      <th></th>\n",
              "      <th>Unnamed: 0</th>\n",
              "      <th>Unnamed: 0.1</th>\n",
              "      <th>loan_status</th>\n",
              "      <th>Principal</th>\n",
              "      <th>terms</th>\n",
              "      <th>effective_date</th>\n",
              "      <th>due_date</th>\n",
              "      <th>age</th>\n",
              "      <th>education</th>\n",
              "      <th>Gender</th>\n",
              "      <th>dayofweek</th>\n",
              "      <th>weekend</th>\n",
              "    </tr>\n",
              "  </thead>\n",
              "  <tbody>\n",
              "    <tr>\n",
              "      <th>0</th>\n",
              "      <td>0</td>\n",
              "      <td>0</td>\n",
              "      <td>0</td>\n",
              "      <td>1000</td>\n",
              "      <td>30</td>\n",
              "      <td>2016-09-08</td>\n",
              "      <td>2016-10-07</td>\n",
              "      <td>45</td>\n",
              "      <td>High School or Below</td>\n",
              "      <td>0</td>\n",
              "      <td>3</td>\n",
              "      <td>0</td>\n",
              "    </tr>\n",
              "    <tr>\n",
              "      <th>1</th>\n",
              "      <td>2</td>\n",
              "      <td>2</td>\n",
              "      <td>0</td>\n",
              "      <td>1000</td>\n",
              "      <td>30</td>\n",
              "      <td>2016-09-08</td>\n",
              "      <td>2016-10-07</td>\n",
              "      <td>33</td>\n",
              "      <td>Bechalor</td>\n",
              "      <td>1</td>\n",
              "      <td>3</td>\n",
              "      <td>0</td>\n",
              "    </tr>\n",
              "    <tr>\n",
              "      <th>2</th>\n",
              "      <td>3</td>\n",
              "      <td>3</td>\n",
              "      <td>0</td>\n",
              "      <td>1000</td>\n",
              "      <td>15</td>\n",
              "      <td>2016-09-08</td>\n",
              "      <td>2016-09-22</td>\n",
              "      <td>27</td>\n",
              "      <td>college</td>\n",
              "      <td>0</td>\n",
              "      <td>3</td>\n",
              "      <td>0</td>\n",
              "    </tr>\n",
              "    <tr>\n",
              "      <th>3</th>\n",
              "      <td>4</td>\n",
              "      <td>4</td>\n",
              "      <td>0</td>\n",
              "      <td>1000</td>\n",
              "      <td>30</td>\n",
              "      <td>2016-09-09</td>\n",
              "      <td>2016-10-08</td>\n",
              "      <td>28</td>\n",
              "      <td>college</td>\n",
              "      <td>1</td>\n",
              "      <td>4</td>\n",
              "      <td>1</td>\n",
              "    </tr>\n",
              "    <tr>\n",
              "      <th>4</th>\n",
              "      <td>6</td>\n",
              "      <td>6</td>\n",
              "      <td>0</td>\n",
              "      <td>1000</td>\n",
              "      <td>30</td>\n",
              "      <td>2016-09-09</td>\n",
              "      <td>2016-10-08</td>\n",
              "      <td>29</td>\n",
              "      <td>college</td>\n",
              "      <td>0</td>\n",
              "      <td>4</td>\n",
              "      <td>1</td>\n",
              "    </tr>\n",
              "  </tbody>\n",
              "</table>\n",
              "</div>\n",
              "      <button class=\"colab-df-convert\" onclick=\"convertToInteractive('df-455d47ff-ea06-425a-885b-9d52243355d9')\"\n",
              "              title=\"Convert this dataframe to an interactive table.\"\n",
              "              style=\"display:none;\">\n",
              "        \n",
              "  <svg xmlns=\"http://www.w3.org/2000/svg\" height=\"24px\"viewBox=\"0 0 24 24\"\n",
              "       width=\"24px\">\n",
              "    <path d=\"M0 0h24v24H0V0z\" fill=\"none\"/>\n",
              "    <path d=\"M18.56 5.44l.94 2.06.94-2.06 2.06-.94-2.06-.94-.94-2.06-.94 2.06-2.06.94zm-11 1L8.5 8.5l.94-2.06 2.06-.94-2.06-.94L8.5 2.5l-.94 2.06-2.06.94zm10 10l.94 2.06.94-2.06 2.06-.94-2.06-.94-.94-2.06-.94 2.06-2.06.94z\"/><path d=\"M17.41 7.96l-1.37-1.37c-.4-.4-.92-.59-1.43-.59-.52 0-1.04.2-1.43.59L10.3 9.45l-7.72 7.72c-.78.78-.78 2.05 0 2.83L4 21.41c.39.39.9.59 1.41.59.51 0 1.02-.2 1.41-.59l7.78-7.78 2.81-2.81c.8-.78.8-2.07 0-2.86zM5.41 20L4 18.59l7.72-7.72 1.47 1.35L5.41 20z\"/>\n",
              "  </svg>\n",
              "      </button>\n",
              "      \n",
              "  <style>\n",
              "    .colab-df-container {\n",
              "      display:flex;\n",
              "      flex-wrap:wrap;\n",
              "      gap: 12px;\n",
              "    }\n",
              "\n",
              "    .colab-df-convert {\n",
              "      background-color: #E8F0FE;\n",
              "      border: none;\n",
              "      border-radius: 50%;\n",
              "      cursor: pointer;\n",
              "      display: none;\n",
              "      fill: #1967D2;\n",
              "      height: 32px;\n",
              "      padding: 0 0 0 0;\n",
              "      width: 32px;\n",
              "    }\n",
              "\n",
              "    .colab-df-convert:hover {\n",
              "      background-color: #E2EBFA;\n",
              "      box-shadow: 0px 1px 2px rgba(60, 64, 67, 0.3), 0px 1px 3px 1px rgba(60, 64, 67, 0.15);\n",
              "      fill: #174EA6;\n",
              "    }\n",
              "\n",
              "    [theme=dark] .colab-df-convert {\n",
              "      background-color: #3B4455;\n",
              "      fill: #D2E3FC;\n",
              "    }\n",
              "\n",
              "    [theme=dark] .colab-df-convert:hover {\n",
              "      background-color: #434B5C;\n",
              "      box-shadow: 0px 1px 3px 1px rgba(0, 0, 0, 0.15);\n",
              "      filter: drop-shadow(0px 1px 2px rgba(0, 0, 0, 0.3));\n",
              "      fill: #FFFFFF;\n",
              "    }\n",
              "  </style>\n",
              "\n",
              "      <script>\n",
              "        const buttonEl =\n",
              "          document.querySelector('#df-455d47ff-ea06-425a-885b-9d52243355d9 button.colab-df-convert');\n",
              "        buttonEl.style.display =\n",
              "          google.colab.kernel.accessAllowed ? 'block' : 'none';\n",
              "\n",
              "        async function convertToInteractive(key) {\n",
              "          const element = document.querySelector('#df-455d47ff-ea06-425a-885b-9d52243355d9');\n",
              "          const dataTable =\n",
              "            await google.colab.kernel.invokeFunction('convertToInteractive',\n",
              "                                                     [key], {});\n",
              "          if (!dataTable) return;\n",
              "\n",
              "          const docLinkHtml = 'Like what you see? Visit the ' +\n",
              "            '<a target=\"_blank\" href=https://colab.research.google.com/notebooks/data_table.ipynb>data table notebook</a>'\n",
              "            + ' to learn more about interactive tables.';\n",
              "          element.innerHTML = '';\n",
              "          dataTable['output_type'] = 'display_data';\n",
              "          await google.colab.output.renderOutput(dataTable, element);\n",
              "          const docLink = document.createElement('div');\n",
              "          docLink.innerHTML = docLinkHtml;\n",
              "          element.appendChild(docLink);\n",
              "        }\n",
              "      </script>\n",
              "    </div>\n",
              "  </div>\n",
              "  "
            ]
          },
          "metadata": {},
          "execution_count": 140
        }
      ],
      "source": [
        "df['Gender'].replace(to_replace=['male','female'], value=[0,1],inplace=True)\n",
        "df['loan_status'].replace(to_replace=['PAIDOFF','COLLECTION'], value=[0,1],inplace=True)\n",
        "df.head()"
      ]
    },
    {
      "cell_type": "markdown",
      "metadata": {
        "button": false,
        "new_sheet": false,
        "run_control": {
          "read_only": false
        },
        "id": "5C8pHYGuPh7Q"
      },
      "source": [
        "## One Hot Encoding\n",
        "\n",
        "#### How about education?\n"
      ]
    },
    {
      "cell_type": "code",
      "execution_count": 141,
      "metadata": {
        "button": false,
        "new_sheet": false,
        "run_control": {
          "read_only": false
        },
        "id": "azT0i1RKPh7R",
        "outputId": "869e1759-b631-44cf-d583-fee205b3f6ae",
        "colab": {
          "base_uri": "https://localhost:8080/"
        }
      },
      "outputs": [
        {
          "output_type": "execute_result",
          "data": {
            "text/plain": [
              "education             loan_status\n",
              "Bechalor              0              0.750000\n",
              "                      1              0.250000\n",
              "High School or Below  0              0.741722\n",
              "                      1              0.258278\n",
              "Master or Above       0              0.500000\n",
              "                      1              0.500000\n",
              "college               0              0.765101\n",
              "                      1              0.234899\n",
              "Name: loan_status, dtype: float64"
            ]
          },
          "metadata": {},
          "execution_count": 141
        }
      ],
      "source": [
        "df.groupby(['education'])['loan_status'].value_counts(normalize=True)"
      ]
    },
    {
      "cell_type": "markdown",
      "metadata": {
        "button": false,
        "new_sheet": false,
        "run_control": {
          "read_only": false
        },
        "id": "kq0xhmanPh7R"
      },
      "source": [
        "#### Features before One Hot Encoding\n"
      ]
    },
    {
      "cell_type": "code",
      "execution_count": 142,
      "metadata": {
        "button": false,
        "new_sheet": false,
        "run_control": {
          "read_only": false
        },
        "id": "UbFM09YtPh7S",
        "outputId": "636d7a54-0b7b-465b-f83d-f561e268b44b",
        "colab": {
          "base_uri": "https://localhost:8080/",
          "height": 206
        }
      },
      "outputs": [
        {
          "output_type": "execute_result",
          "data": {
            "text/plain": [
              "   Principal  terms  age  Gender             education\n",
              "0       1000     30   45       0  High School or Below\n",
              "1       1000     30   33       1              Bechalor\n",
              "2       1000     15   27       0               college\n",
              "3       1000     30   28       1               college\n",
              "4       1000     30   29       0               college"
            ],
            "text/html": [
              "\n",
              "  <div id=\"df-68e8b51b-4fe4-4cc9-8904-cce109850a4d\">\n",
              "    <div class=\"colab-df-container\">\n",
              "      <div>\n",
              "<style scoped>\n",
              "    .dataframe tbody tr th:only-of-type {\n",
              "        vertical-align: middle;\n",
              "    }\n",
              "\n",
              "    .dataframe tbody tr th {\n",
              "        vertical-align: top;\n",
              "    }\n",
              "\n",
              "    .dataframe thead th {\n",
              "        text-align: right;\n",
              "    }\n",
              "</style>\n",
              "<table border=\"1\" class=\"dataframe\">\n",
              "  <thead>\n",
              "    <tr style=\"text-align: right;\">\n",
              "      <th></th>\n",
              "      <th>Principal</th>\n",
              "      <th>terms</th>\n",
              "      <th>age</th>\n",
              "      <th>Gender</th>\n",
              "      <th>education</th>\n",
              "    </tr>\n",
              "  </thead>\n",
              "  <tbody>\n",
              "    <tr>\n",
              "      <th>0</th>\n",
              "      <td>1000</td>\n",
              "      <td>30</td>\n",
              "      <td>45</td>\n",
              "      <td>0</td>\n",
              "      <td>High School or Below</td>\n",
              "    </tr>\n",
              "    <tr>\n",
              "      <th>1</th>\n",
              "      <td>1000</td>\n",
              "      <td>30</td>\n",
              "      <td>33</td>\n",
              "      <td>1</td>\n",
              "      <td>Bechalor</td>\n",
              "    </tr>\n",
              "    <tr>\n",
              "      <th>2</th>\n",
              "      <td>1000</td>\n",
              "      <td>15</td>\n",
              "      <td>27</td>\n",
              "      <td>0</td>\n",
              "      <td>college</td>\n",
              "    </tr>\n",
              "    <tr>\n",
              "      <th>3</th>\n",
              "      <td>1000</td>\n",
              "      <td>30</td>\n",
              "      <td>28</td>\n",
              "      <td>1</td>\n",
              "      <td>college</td>\n",
              "    </tr>\n",
              "    <tr>\n",
              "      <th>4</th>\n",
              "      <td>1000</td>\n",
              "      <td>30</td>\n",
              "      <td>29</td>\n",
              "      <td>0</td>\n",
              "      <td>college</td>\n",
              "    </tr>\n",
              "  </tbody>\n",
              "</table>\n",
              "</div>\n",
              "      <button class=\"colab-df-convert\" onclick=\"convertToInteractive('df-68e8b51b-4fe4-4cc9-8904-cce109850a4d')\"\n",
              "              title=\"Convert this dataframe to an interactive table.\"\n",
              "              style=\"display:none;\">\n",
              "        \n",
              "  <svg xmlns=\"http://www.w3.org/2000/svg\" height=\"24px\"viewBox=\"0 0 24 24\"\n",
              "       width=\"24px\">\n",
              "    <path d=\"M0 0h24v24H0V0z\" fill=\"none\"/>\n",
              "    <path d=\"M18.56 5.44l.94 2.06.94-2.06 2.06-.94-2.06-.94-.94-2.06-.94 2.06-2.06.94zm-11 1L8.5 8.5l.94-2.06 2.06-.94-2.06-.94L8.5 2.5l-.94 2.06-2.06.94zm10 10l.94 2.06.94-2.06 2.06-.94-2.06-.94-.94-2.06-.94 2.06-2.06.94z\"/><path d=\"M17.41 7.96l-1.37-1.37c-.4-.4-.92-.59-1.43-.59-.52 0-1.04.2-1.43.59L10.3 9.45l-7.72 7.72c-.78.78-.78 2.05 0 2.83L4 21.41c.39.39.9.59 1.41.59.51 0 1.02-.2 1.41-.59l7.78-7.78 2.81-2.81c.8-.78.8-2.07 0-2.86zM5.41 20L4 18.59l7.72-7.72 1.47 1.35L5.41 20z\"/>\n",
              "  </svg>\n",
              "      </button>\n",
              "      \n",
              "  <style>\n",
              "    .colab-df-container {\n",
              "      display:flex;\n",
              "      flex-wrap:wrap;\n",
              "      gap: 12px;\n",
              "    }\n",
              "\n",
              "    .colab-df-convert {\n",
              "      background-color: #E8F0FE;\n",
              "      border: none;\n",
              "      border-radius: 50%;\n",
              "      cursor: pointer;\n",
              "      display: none;\n",
              "      fill: #1967D2;\n",
              "      height: 32px;\n",
              "      padding: 0 0 0 0;\n",
              "      width: 32px;\n",
              "    }\n",
              "\n",
              "    .colab-df-convert:hover {\n",
              "      background-color: #E2EBFA;\n",
              "      box-shadow: 0px 1px 2px rgba(60, 64, 67, 0.3), 0px 1px 3px 1px rgba(60, 64, 67, 0.15);\n",
              "      fill: #174EA6;\n",
              "    }\n",
              "\n",
              "    [theme=dark] .colab-df-convert {\n",
              "      background-color: #3B4455;\n",
              "      fill: #D2E3FC;\n",
              "    }\n",
              "\n",
              "    [theme=dark] .colab-df-convert:hover {\n",
              "      background-color: #434B5C;\n",
              "      box-shadow: 0px 1px 3px 1px rgba(0, 0, 0, 0.15);\n",
              "      filter: drop-shadow(0px 1px 2px rgba(0, 0, 0, 0.3));\n",
              "      fill: #FFFFFF;\n",
              "    }\n",
              "  </style>\n",
              "\n",
              "      <script>\n",
              "        const buttonEl =\n",
              "          document.querySelector('#df-68e8b51b-4fe4-4cc9-8904-cce109850a4d button.colab-df-convert');\n",
              "        buttonEl.style.display =\n",
              "          google.colab.kernel.accessAllowed ? 'block' : 'none';\n",
              "\n",
              "        async function convertToInteractive(key) {\n",
              "          const element = document.querySelector('#df-68e8b51b-4fe4-4cc9-8904-cce109850a4d');\n",
              "          const dataTable =\n",
              "            await google.colab.kernel.invokeFunction('convertToInteractive',\n",
              "                                                     [key], {});\n",
              "          if (!dataTable) return;\n",
              "\n",
              "          const docLinkHtml = 'Like what you see? Visit the ' +\n",
              "            '<a target=\"_blank\" href=https://colab.research.google.com/notebooks/data_table.ipynb>data table notebook</a>'\n",
              "            + ' to learn more about interactive tables.';\n",
              "          element.innerHTML = '';\n",
              "          dataTable['output_type'] = 'display_data';\n",
              "          await google.colab.output.renderOutput(dataTable, element);\n",
              "          const docLink = document.createElement('div');\n",
              "          docLink.innerHTML = docLinkHtml;\n",
              "          element.appendChild(docLink);\n",
              "        }\n",
              "      </script>\n",
              "    </div>\n",
              "  </div>\n",
              "  "
            ]
          },
          "metadata": {},
          "execution_count": 142
        }
      ],
      "source": [
        "df[['Principal','terms','age','Gender','education']].head()"
      ]
    },
    {
      "cell_type": "markdown",
      "metadata": {
        "button": false,
        "new_sheet": false,
        "run_control": {
          "read_only": false
        },
        "id": "Z3Q76ubLPh7T"
      },
      "source": [
        "#### Use one hot encoding technique to conver categorical varables to binary variables and append them to the feature Data Frame\n"
      ]
    },
    {
      "cell_type": "code",
      "execution_count": 143,
      "metadata": {
        "button": false,
        "new_sheet": false,
        "run_control": {
          "read_only": false
        },
        "id": "NRCXogSOPh7T",
        "outputId": "d279aa9a-dbc6-412f-8bfe-2e23fdd795e1",
        "colab": {
          "base_uri": "https://localhost:8080/",
          "height": 206
        }
      },
      "outputs": [
        {
          "output_type": "execute_result",
          "data": {
            "text/plain": [
              "   Principal  terms  age  Gender  weekend  Bechalor  High School or Below  \\\n",
              "0       1000     30   45       0        0         0                     1   \n",
              "1       1000     30   33       1        0         1                     0   \n",
              "2       1000     15   27       0        0         0                     0   \n",
              "3       1000     30   28       1        1         0                     0   \n",
              "4       1000     30   29       0        1         0                     0   \n",
              "\n",
              "   college  \n",
              "0        0  \n",
              "1        0  \n",
              "2        1  \n",
              "3        1  \n",
              "4        1  "
            ],
            "text/html": [
              "\n",
              "  <div id=\"df-ba772541-f8cb-4e93-9c94-127c385b54f8\">\n",
              "    <div class=\"colab-df-container\">\n",
              "      <div>\n",
              "<style scoped>\n",
              "    .dataframe tbody tr th:only-of-type {\n",
              "        vertical-align: middle;\n",
              "    }\n",
              "\n",
              "    .dataframe tbody tr th {\n",
              "        vertical-align: top;\n",
              "    }\n",
              "\n",
              "    .dataframe thead th {\n",
              "        text-align: right;\n",
              "    }\n",
              "</style>\n",
              "<table border=\"1\" class=\"dataframe\">\n",
              "  <thead>\n",
              "    <tr style=\"text-align: right;\">\n",
              "      <th></th>\n",
              "      <th>Principal</th>\n",
              "      <th>terms</th>\n",
              "      <th>age</th>\n",
              "      <th>Gender</th>\n",
              "      <th>weekend</th>\n",
              "      <th>Bechalor</th>\n",
              "      <th>High School or Below</th>\n",
              "      <th>college</th>\n",
              "    </tr>\n",
              "  </thead>\n",
              "  <tbody>\n",
              "    <tr>\n",
              "      <th>0</th>\n",
              "      <td>1000</td>\n",
              "      <td>30</td>\n",
              "      <td>45</td>\n",
              "      <td>0</td>\n",
              "      <td>0</td>\n",
              "      <td>0</td>\n",
              "      <td>1</td>\n",
              "      <td>0</td>\n",
              "    </tr>\n",
              "    <tr>\n",
              "      <th>1</th>\n",
              "      <td>1000</td>\n",
              "      <td>30</td>\n",
              "      <td>33</td>\n",
              "      <td>1</td>\n",
              "      <td>0</td>\n",
              "      <td>1</td>\n",
              "      <td>0</td>\n",
              "      <td>0</td>\n",
              "    </tr>\n",
              "    <tr>\n",
              "      <th>2</th>\n",
              "      <td>1000</td>\n",
              "      <td>15</td>\n",
              "      <td>27</td>\n",
              "      <td>0</td>\n",
              "      <td>0</td>\n",
              "      <td>0</td>\n",
              "      <td>0</td>\n",
              "      <td>1</td>\n",
              "    </tr>\n",
              "    <tr>\n",
              "      <th>3</th>\n",
              "      <td>1000</td>\n",
              "      <td>30</td>\n",
              "      <td>28</td>\n",
              "      <td>1</td>\n",
              "      <td>1</td>\n",
              "      <td>0</td>\n",
              "      <td>0</td>\n",
              "      <td>1</td>\n",
              "    </tr>\n",
              "    <tr>\n",
              "      <th>4</th>\n",
              "      <td>1000</td>\n",
              "      <td>30</td>\n",
              "      <td>29</td>\n",
              "      <td>0</td>\n",
              "      <td>1</td>\n",
              "      <td>0</td>\n",
              "      <td>0</td>\n",
              "      <td>1</td>\n",
              "    </tr>\n",
              "  </tbody>\n",
              "</table>\n",
              "</div>\n",
              "      <button class=\"colab-df-convert\" onclick=\"convertToInteractive('df-ba772541-f8cb-4e93-9c94-127c385b54f8')\"\n",
              "              title=\"Convert this dataframe to an interactive table.\"\n",
              "              style=\"display:none;\">\n",
              "        \n",
              "  <svg xmlns=\"http://www.w3.org/2000/svg\" height=\"24px\"viewBox=\"0 0 24 24\"\n",
              "       width=\"24px\">\n",
              "    <path d=\"M0 0h24v24H0V0z\" fill=\"none\"/>\n",
              "    <path d=\"M18.56 5.44l.94 2.06.94-2.06 2.06-.94-2.06-.94-.94-2.06-.94 2.06-2.06.94zm-11 1L8.5 8.5l.94-2.06 2.06-.94-2.06-.94L8.5 2.5l-.94 2.06-2.06.94zm10 10l.94 2.06.94-2.06 2.06-.94-2.06-.94-.94-2.06-.94 2.06-2.06.94z\"/><path d=\"M17.41 7.96l-1.37-1.37c-.4-.4-.92-.59-1.43-.59-.52 0-1.04.2-1.43.59L10.3 9.45l-7.72 7.72c-.78.78-.78 2.05 0 2.83L4 21.41c.39.39.9.59 1.41.59.51 0 1.02-.2 1.41-.59l7.78-7.78 2.81-2.81c.8-.78.8-2.07 0-2.86zM5.41 20L4 18.59l7.72-7.72 1.47 1.35L5.41 20z\"/>\n",
              "  </svg>\n",
              "      </button>\n",
              "      \n",
              "  <style>\n",
              "    .colab-df-container {\n",
              "      display:flex;\n",
              "      flex-wrap:wrap;\n",
              "      gap: 12px;\n",
              "    }\n",
              "\n",
              "    .colab-df-convert {\n",
              "      background-color: #E8F0FE;\n",
              "      border: none;\n",
              "      border-radius: 50%;\n",
              "      cursor: pointer;\n",
              "      display: none;\n",
              "      fill: #1967D2;\n",
              "      height: 32px;\n",
              "      padding: 0 0 0 0;\n",
              "      width: 32px;\n",
              "    }\n",
              "\n",
              "    .colab-df-convert:hover {\n",
              "      background-color: #E2EBFA;\n",
              "      box-shadow: 0px 1px 2px rgba(60, 64, 67, 0.3), 0px 1px 3px 1px rgba(60, 64, 67, 0.15);\n",
              "      fill: #174EA6;\n",
              "    }\n",
              "\n",
              "    [theme=dark] .colab-df-convert {\n",
              "      background-color: #3B4455;\n",
              "      fill: #D2E3FC;\n",
              "    }\n",
              "\n",
              "    [theme=dark] .colab-df-convert:hover {\n",
              "      background-color: #434B5C;\n",
              "      box-shadow: 0px 1px 3px 1px rgba(0, 0, 0, 0.15);\n",
              "      filter: drop-shadow(0px 1px 2px rgba(0, 0, 0, 0.3));\n",
              "      fill: #FFFFFF;\n",
              "    }\n",
              "  </style>\n",
              "\n",
              "      <script>\n",
              "        const buttonEl =\n",
              "          document.querySelector('#df-ba772541-f8cb-4e93-9c94-127c385b54f8 button.colab-df-convert');\n",
              "        buttonEl.style.display =\n",
              "          google.colab.kernel.accessAllowed ? 'block' : 'none';\n",
              "\n",
              "        async function convertToInteractive(key) {\n",
              "          const element = document.querySelector('#df-ba772541-f8cb-4e93-9c94-127c385b54f8');\n",
              "          const dataTable =\n",
              "            await google.colab.kernel.invokeFunction('convertToInteractive',\n",
              "                                                     [key], {});\n",
              "          if (!dataTable) return;\n",
              "\n",
              "          const docLinkHtml = 'Like what you see? Visit the ' +\n",
              "            '<a target=\"_blank\" href=https://colab.research.google.com/notebooks/data_table.ipynb>data table notebook</a>'\n",
              "            + ' to learn more about interactive tables.';\n",
              "          element.innerHTML = '';\n",
              "          dataTable['output_type'] = 'display_data';\n",
              "          await google.colab.output.renderOutput(dataTable, element);\n",
              "          const docLink = document.createElement('div');\n",
              "          docLink.innerHTML = docLinkHtml;\n",
              "          element.appendChild(docLink);\n",
              "        }\n",
              "      </script>\n",
              "    </div>\n",
              "  </div>\n",
              "  "
            ]
          },
          "metadata": {},
          "execution_count": 143
        }
      ],
      "source": [
        "\n",
        "fset0 = df[['Principal','terms','age','Gender','weekend']]\n",
        "fset0 = pd.concat([fset0, pd.get_dummies(df['education'])], axis=1)\n",
        "fset0.drop(['Master or Above'], axis = 1,inplace=True)\n",
        "fset0.head()\n"
      ]
    },
    {
      "cell_type": "markdown",
      "metadata": {
        "button": false,
        "new_sheet": false,
        "run_control": {
          "read_only": false
        },
        "id": "CqDBlm3QPh7U"
      },
      "source": [
        "### Feature Selection\n"
      ]
    },
    {
      "cell_type": "markdown",
      "metadata": {
        "button": false,
        "new_sheet": false,
        "run_control": {
          "read_only": false
        },
        "id": "JLxi31GHPh7U"
      },
      "source": [
        "Let's define feature sets, X:\n"
      ]
    },
    {
      "cell_type": "code",
      "execution_count": 144,
      "metadata": {
        "button": false,
        "new_sheet": false,
        "run_control": {
          "read_only": false
        },
        "id": "W8s-GFAePh7U",
        "outputId": "77e0665a-e7e9-4319-c952-c1f5f53e58b7",
        "colab": {
          "base_uri": "https://localhost:8080/",
          "height": 206
        }
      },
      "outputs": [
        {
          "output_type": "execute_result",
          "data": {
            "text/plain": [
              "   Principal  terms  age  Gender  weekend  Bechalor  High School or Below  \\\n",
              "0       1000     30   45       0        0         0                     1   \n",
              "1       1000     30   33       1        0         1                     0   \n",
              "2       1000     15   27       0        0         0                     0   \n",
              "3       1000     30   28       1        1         0                     0   \n",
              "4       1000     30   29       0        1         0                     0   \n",
              "\n",
              "   college  \n",
              "0        0  \n",
              "1        0  \n",
              "2        1  \n",
              "3        1  \n",
              "4        1  "
            ],
            "text/html": [
              "\n",
              "  <div id=\"df-34bf4fb5-47ad-499a-bdb6-0e79b4e907cb\">\n",
              "    <div class=\"colab-df-container\">\n",
              "      <div>\n",
              "<style scoped>\n",
              "    .dataframe tbody tr th:only-of-type {\n",
              "        vertical-align: middle;\n",
              "    }\n",
              "\n",
              "    .dataframe tbody tr th {\n",
              "        vertical-align: top;\n",
              "    }\n",
              "\n",
              "    .dataframe thead th {\n",
              "        text-align: right;\n",
              "    }\n",
              "</style>\n",
              "<table border=\"1\" class=\"dataframe\">\n",
              "  <thead>\n",
              "    <tr style=\"text-align: right;\">\n",
              "      <th></th>\n",
              "      <th>Principal</th>\n",
              "      <th>terms</th>\n",
              "      <th>age</th>\n",
              "      <th>Gender</th>\n",
              "      <th>weekend</th>\n",
              "      <th>Bechalor</th>\n",
              "      <th>High School or Below</th>\n",
              "      <th>college</th>\n",
              "    </tr>\n",
              "  </thead>\n",
              "  <tbody>\n",
              "    <tr>\n",
              "      <th>0</th>\n",
              "      <td>1000</td>\n",
              "      <td>30</td>\n",
              "      <td>45</td>\n",
              "      <td>0</td>\n",
              "      <td>0</td>\n",
              "      <td>0</td>\n",
              "      <td>1</td>\n",
              "      <td>0</td>\n",
              "    </tr>\n",
              "    <tr>\n",
              "      <th>1</th>\n",
              "      <td>1000</td>\n",
              "      <td>30</td>\n",
              "      <td>33</td>\n",
              "      <td>1</td>\n",
              "      <td>0</td>\n",
              "      <td>1</td>\n",
              "      <td>0</td>\n",
              "      <td>0</td>\n",
              "    </tr>\n",
              "    <tr>\n",
              "      <th>2</th>\n",
              "      <td>1000</td>\n",
              "      <td>15</td>\n",
              "      <td>27</td>\n",
              "      <td>0</td>\n",
              "      <td>0</td>\n",
              "      <td>0</td>\n",
              "      <td>0</td>\n",
              "      <td>1</td>\n",
              "    </tr>\n",
              "    <tr>\n",
              "      <th>3</th>\n",
              "      <td>1000</td>\n",
              "      <td>30</td>\n",
              "      <td>28</td>\n",
              "      <td>1</td>\n",
              "      <td>1</td>\n",
              "      <td>0</td>\n",
              "      <td>0</td>\n",
              "      <td>1</td>\n",
              "    </tr>\n",
              "    <tr>\n",
              "      <th>4</th>\n",
              "      <td>1000</td>\n",
              "      <td>30</td>\n",
              "      <td>29</td>\n",
              "      <td>0</td>\n",
              "      <td>1</td>\n",
              "      <td>0</td>\n",
              "      <td>0</td>\n",
              "      <td>1</td>\n",
              "    </tr>\n",
              "  </tbody>\n",
              "</table>\n",
              "</div>\n",
              "      <button class=\"colab-df-convert\" onclick=\"convertToInteractive('df-34bf4fb5-47ad-499a-bdb6-0e79b4e907cb')\"\n",
              "              title=\"Convert this dataframe to an interactive table.\"\n",
              "              style=\"display:none;\">\n",
              "        \n",
              "  <svg xmlns=\"http://www.w3.org/2000/svg\" height=\"24px\"viewBox=\"0 0 24 24\"\n",
              "       width=\"24px\">\n",
              "    <path d=\"M0 0h24v24H0V0z\" fill=\"none\"/>\n",
              "    <path d=\"M18.56 5.44l.94 2.06.94-2.06 2.06-.94-2.06-.94-.94-2.06-.94 2.06-2.06.94zm-11 1L8.5 8.5l.94-2.06 2.06-.94-2.06-.94L8.5 2.5l-.94 2.06-2.06.94zm10 10l.94 2.06.94-2.06 2.06-.94-2.06-.94-.94-2.06-.94 2.06-2.06.94z\"/><path d=\"M17.41 7.96l-1.37-1.37c-.4-.4-.92-.59-1.43-.59-.52 0-1.04.2-1.43.59L10.3 9.45l-7.72 7.72c-.78.78-.78 2.05 0 2.83L4 21.41c.39.39.9.59 1.41.59.51 0 1.02-.2 1.41-.59l7.78-7.78 2.81-2.81c.8-.78.8-2.07 0-2.86zM5.41 20L4 18.59l7.72-7.72 1.47 1.35L5.41 20z\"/>\n",
              "  </svg>\n",
              "      </button>\n",
              "      \n",
              "  <style>\n",
              "    .colab-df-container {\n",
              "      display:flex;\n",
              "      flex-wrap:wrap;\n",
              "      gap: 12px;\n",
              "    }\n",
              "\n",
              "    .colab-df-convert {\n",
              "      background-color: #E8F0FE;\n",
              "      border: none;\n",
              "      border-radius: 50%;\n",
              "      cursor: pointer;\n",
              "      display: none;\n",
              "      fill: #1967D2;\n",
              "      height: 32px;\n",
              "      padding: 0 0 0 0;\n",
              "      width: 32px;\n",
              "    }\n",
              "\n",
              "    .colab-df-convert:hover {\n",
              "      background-color: #E2EBFA;\n",
              "      box-shadow: 0px 1px 2px rgba(60, 64, 67, 0.3), 0px 1px 3px 1px rgba(60, 64, 67, 0.15);\n",
              "      fill: #174EA6;\n",
              "    }\n",
              "\n",
              "    [theme=dark] .colab-df-convert {\n",
              "      background-color: #3B4455;\n",
              "      fill: #D2E3FC;\n",
              "    }\n",
              "\n",
              "    [theme=dark] .colab-df-convert:hover {\n",
              "      background-color: #434B5C;\n",
              "      box-shadow: 0px 1px 3px 1px rgba(0, 0, 0, 0.15);\n",
              "      filter: drop-shadow(0px 1px 2px rgba(0, 0, 0, 0.3));\n",
              "      fill: #FFFFFF;\n",
              "    }\n",
              "  </style>\n",
              "\n",
              "      <script>\n",
              "        const buttonEl =\n",
              "          document.querySelector('#df-34bf4fb5-47ad-499a-bdb6-0e79b4e907cb button.colab-df-convert');\n",
              "        buttonEl.style.display =\n",
              "          google.colab.kernel.accessAllowed ? 'block' : 'none';\n",
              "\n",
              "        async function convertToInteractive(key) {\n",
              "          const element = document.querySelector('#df-34bf4fb5-47ad-499a-bdb6-0e79b4e907cb');\n",
              "          const dataTable =\n",
              "            await google.colab.kernel.invokeFunction('convertToInteractive',\n",
              "                                                     [key], {});\n",
              "          if (!dataTable) return;\n",
              "\n",
              "          const docLinkHtml = 'Like what you see? Visit the ' +\n",
              "            '<a target=\"_blank\" href=https://colab.research.google.com/notebooks/data_table.ipynb>data table notebook</a>'\n",
              "            + ' to learn more about interactive tables.';\n",
              "          element.innerHTML = '';\n",
              "          dataTable['output_type'] = 'display_data';\n",
              "          await google.colab.output.renderOutput(dataTable, element);\n",
              "          const docLink = document.createElement('div');\n",
              "          docLink.innerHTML = docLinkHtml;\n",
              "          element.appendChild(docLink);\n",
              "        }\n",
              "      </script>\n",
              "    </div>\n",
              "  </div>\n",
              "  "
            ]
          },
          "metadata": {},
          "execution_count": 144
        }
      ],
      "source": [
        "X = fset0\n",
        "X[0:5]"
      ]
    },
    {
      "cell_type": "markdown",
      "metadata": {
        "button": false,
        "new_sheet": false,
        "run_control": {
          "read_only": false
        },
        "id": "jsNJi1x-Ph7U"
      },
      "source": [
        "What are our lables?\n"
      ]
    },
    {
      "cell_type": "code",
      "execution_count": 145,
      "metadata": {
        "button": false,
        "new_sheet": false,
        "run_control": {
          "read_only": false
        },
        "id": "wvZbMy8OPh7V",
        "outputId": "5670a3ed-fcea-4bf6-d2ec-eccd68f7107d",
        "colab": {
          "base_uri": "https://localhost:8080/"
        }
      },
      "outputs": [
        {
          "output_type": "execute_result",
          "data": {
            "text/plain": [
              "0    0\n",
              "1    0\n",
              "2    0\n",
              "3    0\n",
              "4    0\n",
              "Name: loan_status, dtype: int64"
            ]
          },
          "metadata": {},
          "execution_count": 145
        }
      ],
      "source": [
        "y = df['loan_status']\n",
        "y[0:5]"
      ]
    },
    {
      "cell_type": "markdown",
      "metadata": {
        "button": false,
        "new_sheet": false,
        "run_control": {
          "read_only": false
        },
        "id": "4cZ98GJuPh7V"
      },
      "source": [
        "## Normalize Data\n"
      ]
    },
    {
      "cell_type": "markdown",
      "metadata": {
        "button": false,
        "new_sheet": false,
        "run_control": {
          "read_only": false
        },
        "id": "4J5xDZtJPh7W"
      },
      "source": [
        "Data Standardization give data zero mean and unit variance (technically should be done after train test split)\n"
      ]
    },
    {
      "cell_type": "code",
      "execution_count": 146,
      "metadata": {
        "button": false,
        "new_sheet": false,
        "run_control": {
          "read_only": false
        },
        "id": "1u9FDI00Ph7W"
      },
      "outputs": [],
      "source": [
        "# Split dataset into training and testing sets before normalization\n",
        "# from sklearn.model_selection import train_test_split\n",
        "\n",
        "\n",
        "# X_train, X_test, y_train, y_test = train_test_split(X, y, test_size=0.2, random_state=4)\n",
        "\n",
        "# X_train = preprocessing.StandardScaler().fit(X_train).transform(X_train)\n",
        "# X_test = preprocessing.StandardScaler().fit(X_test).transform(X_test)\n",
        "\n",
        "# X_train[0:5]"
      ]
    },
    {
      "cell_type": "markdown",
      "metadata": {
        "button": false,
        "new_sheet": false,
        "run_control": {
          "read_only": false
        },
        "id": "xkCAFbjhPh7W"
      },
      "source": [
        "# Classification\n"
      ]
    },
    {
      "cell_type": "markdown",
      "metadata": {
        "button": false,
        "new_sheet": false,
        "run_control": {
          "read_only": false
        },
        "id": "B-YARdLpPh7X"
      },
      "source": [
        "Now, it is your turn, use the training set to build an accurate model. Then use the test set to report the accuracy of the model\n",
        "You should use the following algorithm:\n",
        "\n",
        "*   K Nearest Neighbor(KNN)\n",
        "*   Decision Tree\n",
        "*   Support Vector Machine\n",
        "*   Logistic Regression\n",
        "\n",
        "\\__ Notice:\\__\n",
        "\n",
        "*   You can go above and change the pre-processing, feature selection, feature-extraction, and so on, to make a better model.\n",
        "*   You should use either scikit-learn, Scipy or Numpy libraries for developing the classification algorithms.\n",
        "*   You should include the code of the algorithm in the following cells.\n"
      ]
    },
    {
      "cell_type": "markdown",
      "source": [
        "# Sarit's Final Assignment: Loan Status Classifier\n",
        "\n",
        "From this header onward are the work that I'm submitting to IBM's Machine Learning with Python.\n",
        "\n",
        "First, let's import all the evaluation metric modules."
      ],
      "metadata": {
        "id": "bR6cX_sSK2Kv"
      }
    },
    {
      "cell_type": "code",
      "source": [
        "# Import Evaluation Metrics\n",
        "\n",
        "from sklearn.model_selection import train_test_split\n",
        "from sklearn.metrics import accuracy_score\n",
        "from sklearn.metrics import jaccard_score\n",
        "from sklearn.metrics import f1_score\n",
        "from sklearn.metrics import log_loss\n"
      ],
      "metadata": {
        "id": "dODqYSOTV1Dd"
      },
      "execution_count": 147,
      "outputs": []
    },
    {
      "cell_type": "markdown",
      "source": [
        "Firstly, I *DON'T* think that `Principal` and `Education` should be included in this particular classifier as they are ineffective predictor of `loan_status`.\n",
        "\n",
        "As you can see below in the histogram figure, the majority of the observed `Principal` values are either 1000 or 800—with rest having count of less than 4, and probabilities of the debt being `PAIDOFF` are rather proportionately distributed across both of those values, symmetrically between male and female as well."
      ],
      "metadata": {
        "id": "qDFsI_MPMR9c"
      }
    },
    {
      "cell_type": "code",
      "source": [
        "bins = np.linspace(df.Principal.min(), df.Principal.max(), 10)\n",
        "g = sns.FacetGrid(df, col=\"Gender\", hue=\"loan_status\", palette=\"Set1\", col_wrap=2)\n",
        "g.map(plt.hist, 'Principal', bins=bins, ec=\"k\")\n",
        "\n",
        "g.axes[-1].legend()\n",
        "plt.show()\n",
        "\n",
        "print(f\"\\nPrincipal Counts:\\n{df['Principal'].value_counts()}\")"
      ],
      "metadata": {
        "colab": {
          "base_uri": "https://localhost:8080/",
          "height": 364
        },
        "id": "14WeoAxvN-1q",
        "outputId": "efad810a-67e1-4d9c-cf94-4c280fa8a7f6"
      },
      "execution_count": 148,
      "outputs": [
        {
          "output_type": "display_data",
          "data": {
            "text/plain": [
              "<Figure size 432x216 with 2 Axes>"
            ],
            "image/png": "[encoded data removed]"
          },
          "metadata": {
            "needs_background": "light"
          }
        },
        {
          "output_type": "stream",
          "name": "stdout",
          "text": [
            "\n",
            "Principal Counts:\n",
            "1000    258\n",
            "800      81\n",
            "300       3\n",
            "900       2\n",
            "500       2\n",
            "Name: Principal, dtype: int64\n"
          ]
        }
      ]
    },
    {
      "cell_type": "markdown",
      "source": [
        "The variable `Education` has the same issue as `Principal` in the sense that it doesn't give us any information. With the exception of `Master or Above`—which is also NOT included in the original feature set `Feature` originally preprocessed, probabilities of `loan_status` are proportionately distributed to all `Education` labels, ~75% being `PAIDOFF` and ~25% being `COLLECTION`."
      ],
      "metadata": {
        "id": "WNUw9edQXQVy"
      }
    },
    {
      "cell_type": "code",
      "source": [
        "df.groupby(['education'])['loan_status'].value_counts(normalize=True)"
      ],
      "metadata": {
        "colab": {
          "base_uri": "https://localhost:8080/"
        },
        "id": "jIzBkJusXPSW",
        "outputId": "b2abaafa-8386-4f00-c15e-4ad5a5d4d492"
      },
      "execution_count": 149,
      "outputs": [
        {
          "output_type": "execute_result",
          "data": {
            "text/plain": [
              "education             loan_status\n",
              "Bechalor              0              0.750000\n",
              "                      1              0.250000\n",
              "High School or Below  0              0.741722\n",
              "                      1              0.258278\n",
              "Master or Above       0              0.500000\n",
              "                      1              0.500000\n",
              "college               0              0.765101\n",
              "                      1              0.234899\n",
              "Name: loan_status, dtype: float64"
            ]
          },
          "metadata": {},
          "execution_count": 149
        }
      ]
    },
    {
      "cell_type": "markdown",
      "source": [
        "Before going any further, there are some changes to be made to the dataframe.\n",
        "\n",
        "First, let's make some changes to the dataframe. I want to change `dayofweek` to `effective_dayofweek` to so I can add a new column of `due_dayofweek`. If there is a significant difference between whether people pay their debt on time based on the day they got their money, I think the opposite should also be true and even more starkly distinguishable.\n",
        "\n",
        "It just makes more sense if people were to miss their due if they have to pay it during a weekend rather than if they had received their loan in a weekend. On that note, we should also change `weekend` to `effective_weekend` and add `due_weekend` column as well.\n",
        "\n",
        "Let's another new columns for `due_month`. My hypothesis is that the purchasing patterns during annual sale periods and/or national holidays could impact people's capacity to pay off their debt in due time."
      ],
      "metadata": {
        "id": "2M3xlzNnSZtF"
      }
    },
    {
      "cell_type": "code",
      "source": [
        "# Rename `dayofweek` column to `effective_dayofweek` and add new column `due_dayofweek`\n",
        "df.rename(columns={'dayofweek': 'effective_dayofweek'}, inplace=True)\n",
        "df['due_dayofweek'] = df['due_date'].dt.dayofweek\n",
        "\n",
        "# Rename `weekend` column to `effective_weekend` and add new column `due_weekend`\n",
        "df.rename(columns={'weekend': 'effective_weekend'}, inplace=True)\n",
        "df['due_weekend'] = df['due_dayofweek'].apply(lambda x: 1 if (x>3)  else 0)\n",
        "\n",
        "# Add `due_month` column\n",
        "df['due_month'] = df['due_date'].dt.month"
      ],
      "metadata": {
        "id": "yGYgSAYedIH7"
      },
      "execution_count": 150,
      "outputs": []
    },
    {
      "cell_type": "markdown",
      "source": [
        "Judging from the evaluation of the feature set `Feature` previously preprocessed and provided, I suspect that including too many features into these models leads to higher rate of error.\n",
        "\n",
        "I will to comb-through all independent variables to find good predictors, then intuitively formulate new feature sets to train the models.\n"
      ],
      "metadata": {
        "id": "UsUHX89-c-j9"
      }
    },
    {
      "cell_type": "code",
      "source": [
        "def print_hist_grid_config(vars):\n",
        "    \"\"\"Prints out configuration codes for plotting histograms\n",
        "    using DataFrame column names passed in as argument\"\"\"\n",
        "\n",
        "    for n, var in enumerate(vars):\n",
        "        print(f\"\"\"\n",
        "# {var}\n",
        "bins{n+1} = np.linspace(df.{var}.min(), df.{var}.max(), 10)\n",
        "g{n+1} = sns.FacetGrid(df, col='Gender', hue='loan_status', palette='Set1', col_wrap=2)\n",
        "g{n+1}.map(plt.hist, '{var}', bins=bins{n+1}, ec='k')\n",
        "g{n+1}.axes[-1].legend()\n",
        "        \"\"\")"
      ],
      "metadata": {
        "id": "tPocX1QvjjBT"
      },
      "execution_count": 151,
      "outputs": []
    },
    {
      "cell_type": "code",
      "source": [
        "indp_vars = ['terms', 'effective_dayofweek', 'due_dayofweek', 'due_month', 'age']\n",
        "\n",
        "# print_hist_grid_config(indp_vars)\n",
        "\n",
        "# terms\n",
        "bins1 = np.linspace(df.terms.min(), df.terms.max(), 10)\n",
        "g1 = sns.FacetGrid(df, col='Gender', hue='loan_status', palette='Set1', col_wrap=2)\n",
        "g1.map(plt.hist, 'terms', bins=bins1, ec='k')\n",
        "g1.axes[-1].legend()\n",
        "        \n",
        "\n",
        "# effective_dayofweek\n",
        "bins2 = np.linspace(df.effective_dayofweek.min(), df.effective_dayofweek.max(), 10)\n",
        "g2 = sns.FacetGrid(df, col='Gender', hue='loan_status', palette='Set1', col_wrap=2)\n",
        "g2.map(plt.hist, 'effective_dayofweek', bins=bins2, ec='k')\n",
        "g2.axes[-1].legend()\n",
        "        \n",
        "\n",
        "# due_dayofweek\n",
        "bins3 = np.linspace(df.due_dayofweek.min(), df.due_dayofweek.max(), 10)\n",
        "g3 = sns.FacetGrid(df, col='Gender', hue='loan_status', palette='Set1', col_wrap=2)\n",
        "g3.map(plt.hist, 'due_dayofweek', bins=bins3, ec='k')\n",
        "g3.axes[-1].legend()\n",
        "        \n",
        "\n",
        "# due_month\n",
        "bins4 = np.linspace(df.due_month.min(), df.due_month.max(), 10)\n",
        "g4 = sns.FacetGrid(df, col='Gender', hue='loan_status', palette='Set1', col_wrap=2)\n",
        "g4.map(plt.hist, 'due_month', bins=bins4, ec='k')\n",
        "g4.axes[-1].legend()\n",
        "        \n",
        "\n",
        "# age\n",
        "bins5 = np.linspace(df.age.min(), df.age.max(), 10)\n",
        "g5 = sns.FacetGrid(df, col='Gender', hue='loan_status', palette='Set1', col_wrap=2)\n",
        "g5.map(plt.hist, 'age', bins=bins5, ec='k')\n",
        "g5.axes[-1].legend()\n",
        "\n",
        "plt.show()"
      ],
      "metadata": {
        "colab": {
          "base_uri": "https://localhost:8080/",
          "height": 1000
        },
        "id": "A9Mhji5dRwWd",
        "outputId": "6e4d7509-ea61-4e9a-d275-8a5d714d400b"
      },
      "execution_count": 152,
      "outputs": [
        {
          "output_type": "display_data",
          "data": {
            "text/plain": [
              "<Figure size 432x216 with 2 Axes>"
            ],
            "image/png": "[encoded data removed]"
          },
          "metadata": {
            "needs_background": "light"
          }
        },
        {
          "output_type": "display_data",
          "data": {
            "text/plain": [
              "<Figure size 432x216 with 2 Axes>"
            ],
            "image/png": "[encoded data removed]"
          },
          "metadata": {
            "needs_background": "light"
          }
        },
        {
          "output_type": "display_data",
          "data": {
            "text/plain": [
              "<Figure size 432x216 with 2 Axes>"
            ],
            "image/png": "[encoded data removed]"
          },
          "metadata": {
            "needs_background": "light"
          }
        },
        {
          "output_type": "display_data",
          "data": {
            "text/plain": [
              "<Figure size 432x216 with 2 Axes>"
            ],
            "image/png": "[encoded data removed]"
          },
          "metadata": {
            "needs_background": "light"
          }
        },
        {
          "output_type": "display_data",
          "data": {
            "text/plain": [
              "<Figure size 432x216 with 2 Axes>"
            ],
            "image/png": "[encoded data removed]"
          },
          "metadata": {
            "needs_background": "light"
          }
        }
      ]
    },
    {
      "cell_type": "markdown",
      "source": [
        "Let's test for a model trained with a featureset consisted of age, effective dayofweek, effective weekend, due dayofweek, due weekend"
      ],
      "metadata": {
        "id": "uc78qbRKppWq"
      }
    },
    {
      "cell_type": "code",
      "source": [
        "\n",
        "# fset1 = ['age', 'Gender', 'effective_dayofweek', 'effective_weekend', 'due_dayofweek', 'due_weekend']\n",
        "\n",
        "FEATURES = fset0\n"
      ],
      "metadata": {
        "id": "7Kxjl-_Dpo63"
      },
      "execution_count": 153,
      "outputs": []
    },
    {
      "cell_type": "code",
      "source": [
        "# Assign feature set to constant\n",
        "X = FEATURES\n",
        "\n",
        "# Replace target variable type from categorical to binary labels\n",
        "y = df['loan_status'].replace(to_replace=['PAIDOFF', 'COLLECTION'], value=[0, 1]).values\n",
        "\n",
        "# Split training and testing sets (test_size=0.2, random_state=4)\n",
        "X_train, X_test, y_train, y_test = train_test_split(X, y, test_size=0.2, random_state=4)\n",
        "\n",
        "# Normalize training and testing feature sets\n",
        "X_train = preprocessing.StandardScaler().fit(X_train).transform(X_train)\n",
        "X_test = preprocessing.StandardScaler().fit(X_test).transform(X_test)\n",
        "\n",
        "X_train[0:5]\n"
      ],
      "metadata": {
        "colab": {
          "base_uri": "https://localhost:8080/"
        },
        "id": "eSeOn_DsPCQ6",
        "outputId": "04c8949d-584f-41c3-dedf-19a1504e39c7"
      },
      "execution_count": 154,
      "outputs": [
        {
          "output_type": "execute_result",
          "data": {
            "text/plain": [
              "array([[ 0.56081126, -0.9677917 ,  0.69858179, -0.40565621, -1.17444044,\n",
              "        -0.40565621, -0.90321065,  1.21007674],\n",
              "       [ 0.56081126,  0.9437816 , -0.81959596, -0.40565621,  0.85146932,\n",
              "        -0.40565621,  1.10716144, -0.82639387],\n",
              "       [ 0.56081126,  0.9437816 ,  0.02383612, -0.40565621, -1.17444044,\n",
              "        -0.40565621, -0.90321065,  1.21007674],\n",
              "       [ 0.56081126, -0.9677917 , -0.98828237, -0.40565621,  0.85146932,\n",
              "        -0.40565621, -0.90321065,  1.21007674],\n",
              "       [ 0.56081126,  0.9437816 , -0.48222312, -0.40565621, -1.17444044,\n",
              "        -0.40565621, -0.90321065,  1.21007674]])"
            ]
          },
          "metadata": {},
          "execution_count": 154
        }
      ]
    },
    {
      "cell_type": "markdown",
      "metadata": {
        "id": "5XxlP5oOPh7X"
      },
      "source": [
        "# K Nearest Neighbor(KNN)\n",
        "\n",
        "Notice: You should find the best k to build the model with the best accuracy.\\\n",
        "**warning:** You should not use the **loan_test.csv** for finding the best k, however, you can split your train_loan.csv into train and test to find the best **k**.\n"
      ]
    },
    {
      "cell_type": "code",
      "execution_count": 155,
      "metadata": {
        "id": "e_cWj-PFPh7X"
      },
      "outputs": [],
      "source": [
        "from sklearn.neighbors import KNeighborsClassifier\n"
      ]
    },
    {
      "cell_type": "code",
      "execution_count": 156,
      "metadata": {
        "id": "rw7OsgY-Ph7X",
        "outputId": "3db8d926-a5bf-4020-da01-4f2a24407071",
        "colab": {
          "base_uri": "https://localhost:8080/"
        }
      },
      "outputs": [
        {
          "output_type": "stream",
          "name": "stdout",
          "text": [
            "\n",
            "    k: 1\n",
            "    \n",
            "        Basic Accuracy:\t\t0.64\n",
            "        Jaccard Score:\t\t0.22\n",
            "        F1 Score:\t\t0.36\n",
            "    \n",
            "\n",
            "    k: 2\n",
            "    \n",
            "        Basic Accuracy:\t\t0.76\n",
            "        Jaccard Score:\t\t0.15\n",
            "        F1 Score:\t\t0.26\n",
            "    \n",
            "\n",
            "    k: 3\n",
            "    \n",
            "        Basic Accuracy:\t\t0.74\n",
            "        Jaccard Score:\t\t0.31\n",
            "        F1 Score:\t\t0.47\n",
            "    \n",
            "\n",
            "    k: 4\n",
            "    \n",
            "        Basic Accuracy:\t\t0.74\n",
            "        Jaccard Score:\t\t0.14\n",
            "        F1 Score:\t\t0.25\n",
            "    \n",
            "\n",
            "    k: 5\n",
            "    \n",
            "        Basic Accuracy:\t\t0.70\n",
            "        Jaccard Score:\t\t0.22\n",
            "        F1 Score:\t\t0.36\n",
            "    \n",
            "\n",
            "    k: 6\n",
            "    \n",
            "        Basic Accuracy:\t\t0.79\n",
            "        Jaccard Score:\t\t0.21\n",
            "        F1 Score:\t\t0.35\n",
            "    \n",
            "\n",
            "    k: 7\n",
            "    \n",
            "        Basic Accuracy:\t\t0.74\n",
            "        Jaccard Score:\t\t0.18\n",
            "        F1 Score:\t\t0.31\n",
            "    \n",
            "\n",
            "    k: 8\n",
            "    \n",
            "        Basic Accuracy:\t\t0.74\n",
            "        Jaccard Score:\t\t0.10\n",
            "        F1 Score:\t\t0.18\n",
            "    \n",
            "\n",
            "    k: 9\n",
            "    \n",
            "        Basic Accuracy:\t\t0.74\n",
            "        Jaccard Score:\t\t0.14\n",
            "        F1 Score:\t\t0.25\n",
            "    \n",
            "\n",
            "    k: 10\n",
            "    \n",
            "        Basic Accuracy:\t\t0.76\n",
            "        Jaccard Score:\t\t0.11\n",
            "        F1 Score:\t\t0.19\n",
            "    \n",
            "\n",
            "    k: 11\n",
            "    \n",
            "        Basic Accuracy:\t\t0.67\n",
            "        Jaccard Score:\t\t0.12\n",
            "        F1 Score:\t\t0.21\n",
            "    \n",
            "\n",
            "    k: 12\n",
            "    \n",
            "        Basic Accuracy:\t\t0.71\n",
            "        Jaccard Score:\t\t0.09\n",
            "        F1 Score:\t\t0.17\n",
            "    \n",
            "\n",
            "    k: 13\n",
            "    \n",
            "        Basic Accuracy:\t\t0.69\n",
            "        Jaccard Score:\t\t0.12\n",
            "        F1 Score:\t\t0.21\n",
            "    \n",
            "\n",
            "    k: 14\n",
            "    \n",
            "        Basic Accuracy:\t\t0.70\n",
            "        Jaccard Score:\t\t0.09\n",
            "        F1 Score:\t\t0.16\n",
            "    \n",
            "\n",
            "    k: 15\n",
            "    \n",
            "        Basic Accuracy:\t\t0.69\n",
            "        Jaccard Score:\t\t0.08\n",
            "        F1 Score:\t\t0.15\n",
            "    \n",
            "\n",
            "    k: 16\n",
            "    \n",
            "        Basic Accuracy:\t\t0.69\n",
            "        Jaccard Score:\t\t0.08\n",
            "        F1 Score:\t\t0.15\n",
            "    \n",
            "\n",
            "    k: 17\n",
            "    \n",
            "        Basic Accuracy:\t\t0.66\n",
            "        Jaccard Score:\t\t0.08\n",
            "        F1 Score:\t\t0.14\n",
            "    \n",
            "\n",
            "    k: 18\n",
            "    \n",
            "        Basic Accuracy:\t\t0.69\n",
            "        Jaccard Score:\t\t0.08\n",
            "        F1 Score:\t\t0.15\n",
            "    \n",
            "\n",
            "    k: 19\n",
            "    \n",
            "        Basic Accuracy:\t\t0.67\n",
            "        Jaccard Score:\t\t0.08\n",
            "        F1 Score:\t\t0.15\n",
            "    \n"
          ]
        }
      ],
      "source": [
        "Ks = 20\n",
        "\n",
        "knn_mean_accuracy = np.zeros(Ks-1)\n",
        "knn_mean_jacscore = np.zeros(Ks-1)\n",
        "knn_mean_f1score = np.zeros(Ks-1)\n",
        "\n",
        "k_initial_eval = {}\n",
        "\n",
        "for k in range(1, Ks):\n",
        "\n",
        "    knn_model = KNeighborsClassifier(n_neighbors=k).fit(X_train, y_train)\n",
        "    knn_model_pred = knn_model.predict(X_test)\n",
        "    knn_mean_jacscore[k-1] = jaccard_score(y_test, knn_model_pred)\n",
        "    knn_mean_f1score[k-1] = f1_score(y_test, knn_model_pred)\n",
        "\n",
        "    k_initial_eval[k] = {}\n",
        "    k_initial_eval[k]['basic_acc'] = accuracy_score(y_test, knn_model_pred)\n",
        "    k_initial_eval[k]['jacscore'] = jaccard_score(y_test, knn_model_pred)\n",
        "    k_initial_eval[k]['f1score'] = f1_score(y_test, knn_model_pred)\n",
        "\n",
        "    print(f\"\"\"\n",
        "    k: {k}\n",
        "    \n",
        "        Basic Accuracy:\\t\\t{k_initial_eval[k]['basic_acc']:.2f}\n",
        "        Jaccard Score:\\t\\t{k_initial_eval[k]['jacscore']:.2f}\n",
        "        F1 Score:\\t\\t{k_initial_eval[k]['f1score']:.2f}\n",
        "    \"\"\")\n"
      ]
    },
    {
      "cell_type": "code",
      "execution_count": 157,
      "metadata": {
        "id": "xLmcNOfwPh7X",
        "outputId": "566f0d29-77dc-4ff1-8a3a-72ea8891cb7d",
        "colab": {
          "base_uri": "https://localhost:8080/"
        }
      },
      "outputs": [
        {
          "output_type": "stream",
          "name": "stdout",
          "text": [
            "k-NN - Best Accuracy-prioritized K Value: 1\n",
            "\tAcc-Prior K - Accuracy Score: 0.0\n",
            "\tAcc-Prior K - Initial Jaccard Score: 0.21875\n",
            "\tAcc-Prior K - Initial F1 Score: 0.35897435897435903\n",
            "\n",
            "k-NN - Best Jaccard-prioritized K Value: 3\n",
            "\tJac-Prior K - Accuracy Score: <accuracy score with best_k_jacscore>\n",
            "\tJac-Prior K - Initial Jaccard Score: 0.3076923076923077\n",
            "\tJac-Prior K - Initial F1 Score: <f1 score with best_k_jacscore>\n",
            "\n",
            "k-NN - Best F1-prioritized K Value: 3\n",
            "\tF1-Prior K - Accuracy Score: <accuracy score with best_k_f1score>\n",
            "\tF1-Prior K - Initial Jaccard Score: <f1 score with best_k_f1score>\n",
            "\tF1-Prior K - Initial F1 Score: 0.47058823529411764\n"
          ]
        }
      ],
      "source": [
        "best_knn_accuracy = knn_mean_accuracy.max()\n",
        "best_k_accuracy = knn_mean_accuracy.argmax() + 1\n",
        "\n",
        "best_knn_jacscore = knn_mean_jacscore.max()\n",
        "best_k_jacscore = knn_mean_jacscore.argmax() + 1\n",
        "\n",
        "best_knn_f1score = knn_mean_f1score.max()\n",
        "best_k_f1score = knn_mean_f1score.argmax() + 1\n",
        "\n",
        "# Re-train the model and set value of k to best_k_val\n",
        "knn_model = KNeighborsClassifier(n_neighbors = best_k_accuracy).fit(X_train, y_train)\n",
        "knn_model_pred = knn_model.predict(X_test)\n",
        "\n",
        "initial_knn_jacscore = jaccard_score(y_test, knn_model_pred)\n",
        "initial_knn_f1score = f1_score(y_test, knn_model_pred)\n",
        "\n",
        "print(f\"k-NN - Best Accuracy-prioritized K Value: {best_k_accuracy}\")\n",
        "print(f\"\\tAcc-Prior K - Accuracy Score: {best_knn_accuracy}\")\n",
        "print(f\"\\tAcc-Prior K - Initial Jaccard Score: {initial_knn_jacscore}\")\n",
        "print(f\"\\tAcc-Prior K - Initial F1 Score: {initial_knn_f1score}\")\n",
        "\n",
        "print(f\"\\nk-NN - Best Jaccard-prioritized K Value: {best_k_jacscore}\")\n",
        "print(f\"\\tJac-Prior K - Accuracy Score: <accuracy score with best_k_jacscore>\")\n",
        "print(f\"\\tJac-Prior K - Initial Jaccard Score: {best_knn_jacscore}\")\n",
        "print(f\"\\tJac-Prior K - Initial F1 Score: <f1 score with best_k_jacscore>\")\n",
        "\n",
        "print(f\"\\nk-NN - Best F1-prioritized K Value: {best_k_f1score}\")\n",
        "print(f\"\\tF1-Prior K - Accuracy Score: <accuracy score with best_k_f1score>\")\n",
        "print(f\"\\tF1-Prior K - Initial Jaccard Score: <f1 score with best_k_f1score>\")\n",
        "print(f\"\\tF1-Prior K - Initial F1 Score: {best_knn_f1score}\")\n",
        "\n"
      ]
    },
    {
      "cell_type": "markdown",
      "metadata": {
        "id": "D0isf4MYPh7X"
      },
      "source": [
        "# Decision Tree\n"
      ]
    },
    {
      "cell_type": "code",
      "execution_count": 158,
      "metadata": {
        "id": "o5d8h1jsPh7Y"
      },
      "outputs": [],
      "source": [
        "from sklearn.tree import DecisionTreeClassifier"
      ]
    },
    {
      "cell_type": "code",
      "execution_count": 159,
      "metadata": {
        "id": "urwy5TKyPh7Y"
      },
      "outputs": [],
      "source": [
        "\n",
        "dtree = DecisionTreeClassifier(criterion='entropy')\n",
        "dtree.fit(X_train, y_train)\n",
        "\n",
        "dtree_pred = dtree.predict(X_test)\n"
      ]
    },
    {
      "cell_type": "code",
      "execution_count": 160,
      "metadata": {
        "id": "UJXEciYJPh7Y",
        "outputId": "5c5dce27-5841-480c-eeb5-95a5402241c4",
        "colab": {
          "base_uri": "https://localhost:8080/"
        }
      },
      "outputs": [
        {
          "output_type": "stream",
          "name": "stdout",
          "text": [
            "\n",
            "Decision Tree\n",
            "\n",
            "    Accuracy Score:\t\t0.70\n",
            "    Jaccard Score:\t\t0.16\n",
            "    F1 Score:\t\t\t0.28\n",
            "\n"
          ]
        }
      ],
      "source": [
        "# In-sample Testing Block\n",
        "\n",
        "initial_dtree_accuracy = accuracy_score(y_test, dtree_pred)\n",
        "initial_dtree_jacscore = jaccard_score(y_test, dtree_pred)\n",
        "initial_dtree_f1score = f1_score(y_test, dtree_pred)\n",
        "\n",
        "print(f\"\"\"\n",
        "Decision Tree\n",
        "\n",
        "    Accuracy Score:\\t\\t{initial_dtree_accuracy:.2f}\n",
        "    Jaccard Score:\\t\\t{initial_dtree_jacscore:.2f}\n",
        "    F1 Score:\\t\\t\\t{initial_dtree_f1score:.2f}\n",
        "\"\"\")\n"
      ]
    },
    {
      "cell_type": "markdown",
      "metadata": {
        "id": "q_hg1T9dPh7Y"
      },
      "source": [
        "# Support Vector Machine\n"
      ]
    },
    {
      "cell_type": "code",
      "execution_count": 161,
      "metadata": {
        "id": "qjXqgUbiPh7Y"
      },
      "outputs": [],
      "source": [
        "from sklearn import svm"
      ]
    },
    {
      "cell_type": "code",
      "execution_count": 162,
      "metadata": {
        "id": "wYNIS9tfPh7Y",
        "outputId": "dd848164-0ee0-40c4-b8fb-fe8c2c77054d",
        "colab": {
          "base_uri": "https://localhost:8080/"
        }
      },
      "outputs": [
        {
          "output_type": "stream",
          "name": "stdout",
          "text": [
            "\n",
            "        Kernel: rbf\n",
            "\n",
            "            Basic Accuracy:\t\t0.74\n",
            "            Jaccard Score:\t\t0.18\n",
            "            F1 Score:\t\t\t0.31\n",
            "\n",
            "        \n",
            "\n",
            "        Kernel: sigmoid\n",
            "\n",
            "            Basic Accuracy:\t\t0.71\n",
            "            Jaccard Score:\t\t0.09\n",
            "            F1 Score:\t\t\t0.17\n",
            "\n",
            "        \n",
            "\n",
            "        Kernel: linear\n",
            "\n",
            "            Basic Accuracy:\t\t0.79\n",
            "            Jaccard Score:\t\t0.00\n",
            "            F1 Score:\t\t\t0.00\n",
            "\n",
            "        \n",
            "\n",
            "            Kernel: poly (degree=1)\n",
            "\n",
            "                Basic Accuracy:\t\t\t0.79\n",
            "                Jaccard Score:\t\t\t0.00\n",
            "                F1 Score:\t\t\t0.00\n",
            "\n",
            "            \n",
            "\n",
            "            Kernel: poly (degree=2)\n",
            "\n",
            "                Basic Accuracy:\t\t\t0.79\n",
            "                Jaccard Score:\t\t\t0.00\n",
            "                F1 Score:\t\t\t0.00\n",
            "\n",
            "            \n",
            "\n",
            "            Kernel: poly (degree=3)\n",
            "\n",
            "                Basic Accuracy:\t\t\t0.74\n",
            "                Jaccard Score:\t\t\t0.05\n",
            "                F1 Score:\t\t\t0.10\n",
            "\n",
            "            \n",
            "\n",
            "            Kernel: poly (degree=4)\n",
            "\n",
            "                Basic Accuracy:\t\t\t0.74\n",
            "                Jaccard Score:\t\t\t0.05\n",
            "                F1 Score:\t\t\t0.10\n",
            "\n",
            "            \n",
            "\n",
            "            Kernel: poly (degree=5)\n",
            "\n",
            "                Basic Accuracy:\t\t\t0.74\n",
            "                Jaccard Score:\t\t\t0.05\n",
            "                F1 Score:\t\t\t0.10\n",
            "\n",
            "            \n",
            "\n",
            "            Kernel: poly (degree=6)\n",
            "\n",
            "                Basic Accuracy:\t\t\t0.74\n",
            "                Jaccard Score:\t\t\t0.05\n",
            "                F1 Score:\t\t\t0.10\n",
            "\n",
            "            \n",
            "\n",
            "            Kernel: poly (degree=7)\n",
            "\n",
            "                Basic Accuracy:\t\t\t0.76\n",
            "                Jaccard Score:\t\t\t0.06\n",
            "                F1 Score:\t\t\t0.11\n",
            "\n",
            "            \n",
            "\n",
            "            Kernel: poly (degree=8)\n",
            "\n",
            "                Basic Accuracy:\t\t\t0.74\n",
            "                Jaccard Score:\t\t\t0.00\n",
            "                F1 Score:\t\t\t0.00\n",
            "\n",
            "            \n",
            "\n",
            "            Kernel: poly (degree=9)\n",
            "\n",
            "                Basic Accuracy:\t\t\t0.74\n",
            "                Jaccard Score:\t\t\t0.00\n",
            "                F1 Score:\t\t\t0.00\n",
            "\n",
            "            \n"
          ]
        }
      ],
      "source": [
        "kernel_types = ['rbf', 'sigmoid', 'linear' , 'poly']\n",
        "kernel_initial_eval = {}\n",
        "poly_max = 10\n",
        "\n",
        "for kernel_type in kernel_types:\n",
        "\n",
        "    if kernel_type == 'poly':\n",
        "        for i in range(1, poly_max):\n",
        "\n",
        "            svm_model = svm.SVC(kernel=kernel_type, degree=i)\n",
        "            svm_model.fit(X_train, y_train)\n",
        "\n",
        "            svm_model_pred = svm_model.predict(X_test)\n",
        "\n",
        "            kernel_initial_eval[kernel_type] = {}\n",
        "            kernel_initial_eval[kernel_type][i] = {}\n",
        "\n",
        "            kernel_initial_eval[kernel_type][i]['basic_acc'] = accuracy_score(y_test, svm_model_pred)\n",
        "            kernel_initial_eval[kernel_type][i]['jacscore'] = jaccard_score(y_test, svm_model_pred)\n",
        "            kernel_initial_eval[kernel_type][i]['f1score'] = f1_score(y_test, svm_model_pred)\n",
        "\n",
        "            print(f\"\"\"\n",
        "            Kernel: {kernel_type} (degree={i})\n",
        "\n",
        "                Basic Accuracy:\\t\\t\\t{kernel_initial_eval[kernel_type][i]['basic_acc']:.2f}\n",
        "                Jaccard Score:\\t\\t\\t{kernel_initial_eval[kernel_type][i]['jacscore']:.2f}\n",
        "                F1 Score:\\t\\t\\t{kernel_initial_eval[kernel_type][i]['f1score']:.2f}\n",
        "\n",
        "            \"\"\")\n",
        "\n",
        "    else:\n",
        "\n",
        "        svm_model = svm.SVC(kernel=kernel_type)\n",
        "        svm_model.fit(X_train, y_train)\n",
        "\n",
        "        svm_model_pred = svm_model.predict(X_test)\n",
        "\n",
        "        kernel_initial_eval[kernel_type] = {}\n",
        "\n",
        "        kernel_initial_eval[kernel_type]['basic_acc'] = accuracy_score(y_test, svm_model_pred)\n",
        "        kernel_initial_eval[kernel_type]['jacscore'] = jaccard_score(y_test, svm_model_pred)\n",
        "        kernel_initial_eval[kernel_type]['f1score'] = f1_score(y_test, svm_model_pred)\n",
        "\n",
        "        print(f\"\"\"\n",
        "        Kernel: {kernel_type}\n",
        "\n",
        "            Basic Accuracy:\\t\\t{kernel_initial_eval[kernel_type]['basic_acc']:.2f}\n",
        "            Jaccard Score:\\t\\t{kernel_initial_eval[kernel_type]['jacscore']:.2f}\n",
        "            F1 Score:\\t\\t\\t{kernel_initial_eval[kernel_type]['f1score']:.2f}\n",
        "\n",
        "        \"\"\")\n"
      ]
    },
    {
      "cell_type": "code",
      "execution_count": 163,
      "metadata": {
        "id": "oMdisQCTPh7Y"
      },
      "outputs": [],
      "source": [
        "# best_svm_kernel = max(kernel_accuracy, key=kernel_accuracy.get)\n",
        "# best_svm_accuracy = kernel_accuracy.get(best_svm_kernel)\n",
        "\n",
        "# # Re-training SVM model setting kernel type as best_svm_kernel\n",
        "# svm_model = svm.SVC(kernel=best_svm_kernel)\n",
        "# svm_model.fit(X_train, y_train)\n",
        "\n",
        "# svm_model_pred = svm_model.predict(X_test)\n",
        "\n",
        "# svm_accuracy = metrics.accuracy_score(y_test, svm_model_pred)\n",
        "\n",
        "# print(f\"Best kernelling technique: '{best_svm_kernel}'\")\n",
        "# print(f\"SVM - Accuracy Score: {svm_accuracy}\")\n",
        "\n",
        "# initial_svm_jacscore = jaccard_score(y_test, svm_model_pred)\n",
        "# initial_svm_f1score = f1_score(y_test, svm_model_pred)\n",
        "\n",
        "# print(f\"SVM - Initial Jaccard Score: {initial_svm_jacscore}\")\n",
        "# print(f\"SVM - Initial F1 Score: {initial_svm_f1score}\")\n"
      ]
    },
    {
      "cell_type": "markdown",
      "metadata": {
        "id": "NtnekQeiPh7Z"
      },
      "source": [
        "# Logistic Regression\n"
      ]
    },
    {
      "cell_type": "code",
      "execution_count": 164,
      "metadata": {
        "id": "3KbQkjW5Ph7Z"
      },
      "outputs": [],
      "source": [
        "from sklearn.linear_model import LogisticRegression"
      ]
    },
    {
      "cell_type": "code",
      "execution_count": 165,
      "metadata": {
        "id": "8VvJ7BXRPh7Z",
        "outputId": "b1206c76-cbe5-45e0-ed73-b1aa45317a40",
        "colab": {
          "base_uri": "https://localhost:8080/"
        }
      },
      "outputs": [
        {
          "output_type": "stream",
          "name": "stdout",
          "text": [
            "Solver: newton-cg\n",
            "\n",
            "        C: 0.01\n",
            "            Basic Accuracy:\t\t0.79\n",
            "            Jaccard Score:\t\t0.00\n",
            "            F1 Score:\t\t\t0.00\n",
            "            Log Loss:\t\t\t7.40\n",
            "        \n",
            "\n",
            "        C: 0.25\n",
            "            Basic Accuracy:\t\t0.77\n",
            "            Jaccard Score:\t\t0.06\n",
            "            F1 Score:\t\t\t0.11\n",
            "            Log Loss:\t\t\t7.89\n",
            "        \n",
            "\n",
            "        C: 0.49\n",
            "            Basic Accuracy:\t\t0.76\n",
            "            Jaccard Score:\t\t0.11\n",
            "            F1 Score:\t\t\t0.19\n",
            "            Log Loss:\t\t\t8.39\n",
            "        \n",
            "\n",
            "        C: 0.73\n",
            "            Basic Accuracy:\t\t0.76\n",
            "            Jaccard Score:\t\t0.11\n",
            "            F1 Score:\t\t\t0.19\n",
            "            Log Loss:\t\t\t8.39\n",
            "        \n",
            "\n",
            "        C: 0.97\n",
            "            Basic Accuracy:\t\t0.74\n",
            "            Jaccard Score:\t\t0.10\n",
            "            F1 Score:\t\t\t0.18\n",
            "            Log Loss:\t\t\t8.88\n",
            "        \n",
            "Solver: lbfgs\n",
            "\n",
            "        C: 0.01\n",
            "            Basic Accuracy:\t\t0.79\n",
            "            Jaccard Score:\t\t0.00\n",
            "            F1 Score:\t\t\t0.00\n",
            "            Log Loss:\t\t\t7.40\n",
            "        \n",
            "\n",
            "        C: 0.25\n",
            "            Basic Accuracy:\t\t0.77\n",
            "            Jaccard Score:\t\t0.06\n",
            "            F1 Score:\t\t\t0.11\n",
            "            Log Loss:\t\t\t7.89\n",
            "        \n",
            "\n",
            "        C: 0.49\n",
            "            Basic Accuracy:\t\t0.76\n",
            "            Jaccard Score:\t\t0.11\n",
            "            F1 Score:\t\t\t0.19\n",
            "            Log Loss:\t\t\t8.39\n",
            "        \n",
            "\n",
            "        C: 0.73\n",
            "            Basic Accuracy:\t\t0.76\n",
            "            Jaccard Score:\t\t0.11\n",
            "            F1 Score:\t\t\t0.19\n",
            "            Log Loss:\t\t\t8.39\n",
            "        \n",
            "\n",
            "        C: 0.97\n",
            "            Basic Accuracy:\t\t0.74\n",
            "            Jaccard Score:\t\t0.10\n",
            "            F1 Score:\t\t\t0.18\n",
            "            Log Loss:\t\t\t8.88\n",
            "        \n",
            "Solver: liblinear\n",
            "\n",
            "        C: 0.01\n",
            "            Basic Accuracy:\t\t0.76\n",
            "            Jaccard Score:\t\t0.11\n",
            "            F1 Score:\t\t\t0.19\n",
            "            Log Loss:\t\t\t8.39\n",
            "        \n",
            "\n",
            "        C: 0.25\n",
            "            Basic Accuracy:\t\t0.76\n",
            "            Jaccard Score:\t\t0.11\n",
            "            F1 Score:\t\t\t0.19\n",
            "            Log Loss:\t\t\t8.39\n",
            "        \n",
            "\n",
            "        C: 0.49\n",
            "            Basic Accuracy:\t\t0.76\n",
            "            Jaccard Score:\t\t0.11\n",
            "            F1 Score:\t\t\t0.19\n",
            "            Log Loss:\t\t\t8.39\n",
            "        \n",
            "\n",
            "        C: 0.73\n",
            "            Basic Accuracy:\t\t0.74\n",
            "            Jaccard Score:\t\t0.10\n",
            "            F1 Score:\t\t\t0.18\n",
            "            Log Loss:\t\t\t8.88\n",
            "        \n",
            "\n",
            "        C: 0.97\n",
            "            Basic Accuracy:\t\t0.74\n",
            "            Jaccard Score:\t\t0.10\n",
            "            F1 Score:\t\t\t0.18\n",
            "            Log Loss:\t\t\t8.88\n",
            "        \n",
            "Solver: sag\n",
            "\n",
            "        C: 0.01\n",
            "            Basic Accuracy:\t\t0.79\n",
            "            Jaccard Score:\t\t0.00\n",
            "            F1 Score:\t\t\t0.00\n",
            "            Log Loss:\t\t\t7.40\n",
            "        \n",
            "\n",
            "        C: 0.25\n",
            "            Basic Accuracy:\t\t0.77\n",
            "            Jaccard Score:\t\t0.06\n",
            "            F1 Score:\t\t\t0.11\n",
            "            Log Loss:\t\t\t7.89\n",
            "        \n",
            "\n",
            "        C: 0.49\n",
            "            Basic Accuracy:\t\t0.76\n",
            "            Jaccard Score:\t\t0.11\n",
            "            F1 Score:\t\t\t0.19\n",
            "            Log Loss:\t\t\t8.39\n",
            "        \n",
            "\n",
            "        C: 0.73\n",
            "            Basic Accuracy:\t\t0.76\n",
            "            Jaccard Score:\t\t0.11\n",
            "            F1 Score:\t\t\t0.19\n",
            "            Log Loss:\t\t\t8.39\n",
            "        \n",
            "\n",
            "        C: 0.97\n",
            "            Basic Accuracy:\t\t0.74\n",
            "            Jaccard Score:\t\t0.10\n",
            "            F1 Score:\t\t\t0.18\n",
            "            Log Loss:\t\t\t8.88\n",
            "        \n",
            "Solver: saga\n",
            "\n",
            "        C: 0.01\n",
            "            Basic Accuracy:\t\t0.79\n",
            "            Jaccard Score:\t\t0.00\n",
            "            F1 Score:\t\t\t0.00\n",
            "            Log Loss:\t\t\t7.40\n",
            "        \n",
            "\n",
            "        C: 0.25\n",
            "            Basic Accuracy:\t\t0.77\n",
            "            Jaccard Score:\t\t0.06\n",
            "            F1 Score:\t\t\t0.11\n",
            "            Log Loss:\t\t\t7.89\n",
            "        \n",
            "\n",
            "        C: 0.49\n",
            "            Basic Accuracy:\t\t0.76\n",
            "            Jaccard Score:\t\t0.11\n",
            "            F1 Score:\t\t\t0.19\n",
            "            Log Loss:\t\t\t8.39\n",
            "        \n",
            "\n",
            "        C: 0.73\n",
            "            Basic Accuracy:\t\t0.76\n",
            "            Jaccard Score:\t\t0.11\n",
            "            F1 Score:\t\t\t0.19\n",
            "            Log Loss:\t\t\t8.39\n",
            "        \n",
            "\n",
            "        C: 0.97\n",
            "            Basic Accuracy:\t\t0.74\n",
            "            Jaccard Score:\t\t0.10\n",
            "            F1 Score:\t\t\t0.18\n",
            "            Log Loss:\t\t\t8.88\n",
            "        \n"
          ]
        }
      ],
      "source": [
        "solvers = ['newton-cg', 'lbfgs', 'liblinear', 'sag', 'saga']\n",
        "C_range = np.arange(0.01, 1.0, 0.24)\n",
        "solver_initial_eval = {}\n",
        "\n",
        "for solver_type in solvers:\n",
        "    \n",
        "    print(f\"Solver: {solver_type}\")\n",
        "    solver_initial_eval[solver_type] = {}\n",
        "\n",
        "    for c in C_range:\n",
        "\n",
        "        log_reg = LogisticRegression(C=c, solver=solver_type)\n",
        "        log_reg.fit(X_train, y_train)\n",
        "\n",
        "        log_reg_pred = log_reg.predict(X_test)\n",
        "\n",
        "        solver_initial_eval[solver_type][c] = {}\n",
        "\n",
        "        solver_initial_eval[solver_type][c]['basic_acc'] = accuracy_score(y_test, log_reg_pred)\n",
        "        solver_initial_eval[solver_type][c]['jacscore'] = jaccard_score(y_test, log_reg_pred)\n",
        "        solver_initial_eval[solver_type][c]['f1score'] = f1_score(y_test, log_reg_pred)\n",
        "        solver_initial_eval[solver_type][c]['logloss'] = log_loss(y_test, log_reg_pred)\n",
        "\n",
        "        print(f\"\"\"\n",
        "        C: {c}\n",
        "            Basic Accuracy:\\t\\t{solver_initial_eval[solver_type][c]['basic_acc']:.2f}\n",
        "            Jaccard Score:\\t\\t{solver_initial_eval[solver_type][c]['jacscore']:.2f}\n",
        "            F1 Score:\\t\\t\\t{solver_initial_eval[solver_type][c]['f1score']:.2f}\n",
        "            Log Loss:\\t\\t\\t{solver_initial_eval[solver_type][c]['logloss']:.2f}\n",
        "        \"\"\")\n"
      ]
    },
    {
      "cell_type": "code",
      "execution_count": 166,
      "metadata": {
        "id": "U-tPGX3mPh7Z"
      },
      "outputs": [],
      "source": [
        "# best_logreg_config = {}\n",
        "\n",
        "# for key, val in solver_initial_eval.items():\n",
        "    \n",
        "#     best_logreg_config[key] = {}\n",
        "#     max_val = 0\n",
        "    \n",
        "#     for val_key, ele in zip(val.keys(), val.values()):\n",
        "        \n",
        "#         if ele > max_val:\n",
        "#             max_val = ele\n",
        "#             max_val_key = val_key\n",
        "            \n",
        "#     best_logreg_config[key][max_val_key] =  max_val\n",
        "\n",
        "# # Turns out the best configuration is any solver EXCEPT 'liblinear' with C value at 0.01\n",
        "# best_logreg_config"
      ]
    },
    {
      "cell_type": "code",
      "execution_count": 167,
      "metadata": {
        "id": "RNc6ih14Ph7Z"
      },
      "outputs": [],
      "source": [
        "# log_reg = LogisticRegression(C=0.01, solver='lbfgs')\n",
        "# log_reg.fit(X_train, y_train)\n",
        "\n",
        "# log_reg_pred = log_reg.predict(X_test)\n",
        "# log_reg_accuracy = metrics.accuracy_score(y_test, log_reg_pred)\n",
        "\n",
        "# print(f\"Logistic regression with accuracy of {log_reg_accuracy}, using 'lbfgs' solver with C value at 0.01\")\n",
        "\n",
        "# initial_logreg_jacscore = jaccard_score(y_test, log_reg_pred)\n",
        "# initial_logreg_f1score = f1_score(y_test, log_reg_pred)\n",
        "\n",
        "# print(f\"Logistic Regression - Initial Jaccard Score: {initial_logreg_jacscore}\")\n",
        "# print(f\"Logistic Regression - Initial F1 Score: {initial_logreg_f1score}\")\n",
        "\n",
        "# log_reg_prob = log_reg.predict_proba(X_test)\n",
        "# initial_logreg_logloss = log_loss(y_test, log_reg_prob)\n",
        "\n",
        "# print(f\"Logistic Regression - Initial Log-Loss: {initial_logreg_logloss}\")"
      ]
    },
    {
      "cell_type": "markdown",
      "metadata": {
        "id": "U-LzLPz6Ph7a"
      },
      "source": [
        "# Model Evaluation using Test set\n"
      ]
    },
    {
      "cell_type": "code",
      "execution_count": 168,
      "metadata": {
        "id": "rOIHBCW7Ph7a"
      },
      "outputs": [],
      "source": [
        "from sklearn.metrics import jaccard_score\n",
        "from sklearn.metrics import f1_score\n",
        "from sklearn.metrics import log_loss\n"
      ]
    },
    {
      "cell_type": "markdown",
      "metadata": {
        "id": "YmPQNSpaPh7a"
      },
      "source": [
        "First, download and load the test set:\n"
      ]
    },
    {
      "cell_type": "code",
      "execution_count": 169,
      "metadata": {
        "id": "YxQOdy0FPh7a",
        "outputId": "2538b037-1973-4e2c-9b7d-96aedb16719d",
        "colab": {
          "base_uri": "https://localhost:8080/"
        }
      },
      "outputs": [
        {
          "output_type": "stream",
          "name": "stdout",
          "text": [
            "--2022-07-19 10:55:57--  https://s3-api.us-geo.objectstorage.softlayer.net/cf-courses-data/CognitiveClass/ML0101ENv3/labs/loan_test.csv\n",
            "Resolving s3-api.us-geo.objectstorage.softlayer.net (s3-api.us-geo.objectstorage.softlayer.net)... 67.228.254.196\n",
            "Connecting to s3-api.us-geo.objectstorage.softlayer.net (s3-api.us-geo.objectstorage.softlayer.net)|67.228.254.196|:443... connected.\n",
            "HTTP request sent, awaiting response... 200 OK\n",
            "Length: 3642 (3.6K) [text/csv]\n",
            "Saving to: ‘loan_test.csv’\n",
            "\n",
            "loan_test.csv       100%[===================>]   3.56K  --.-KB/s    in 0s      \n",
            "\n",
            "2022-07-19 10:55:57 (946 MB/s) - ‘loan_test.csv’ saved [3642/3642]\n",
            "\n"
          ]
        }
      ],
      "source": [
        "!wget -O loan_test.csv https://s3-api.us-geo.objectstorage.softlayer.net/cf-courses-data/CognitiveClass/ML0101ENv3/labs/loan_test.csv"
      ]
    },
    {
      "cell_type": "markdown",
      "metadata": {
        "button": false,
        "new_sheet": false,
        "run_control": {
          "read_only": false
        },
        "id": "1Y3viPAqPh7a"
      },
      "source": [
        "### Load Test set for evaluation\n"
      ]
    },
    {
      "cell_type": "code",
      "execution_count": 170,
      "metadata": {
        "button": false,
        "new_sheet": false,
        "run_control": {
          "read_only": false
        },
        "id": "rzikDLYePh7a",
        "outputId": "bd2b15d4-401b-4740-b503-52e9f1d77b38",
        "colab": {
          "base_uri": "https://localhost:8080/",
          "height": 206
        }
      },
      "outputs": [
        {
          "output_type": "execute_result",
          "data": {
            "text/plain": [
              "   Unnamed: 0  Unnamed: 0.1 loan_status  Principal  terms effective_date  \\\n",
              "0           1             1     PAIDOFF       1000     30       9/8/2016   \n",
              "1           5             5     PAIDOFF        300      7       9/9/2016   \n",
              "2          21            21     PAIDOFF       1000     30      9/10/2016   \n",
              "3          24            24     PAIDOFF       1000     30      9/10/2016   \n",
              "4          35            35     PAIDOFF        800     15      9/11/2016   \n",
              "\n",
              "    due_date  age             education  Gender  \n",
              "0  10/7/2016   50              Bechalor  female  \n",
              "1  9/15/2016   35       Master or Above    male  \n",
              "2  10/9/2016   43  High School or Below  female  \n",
              "3  10/9/2016   26               college    male  \n",
              "4  9/25/2016   29              Bechalor    male  "
            ],
            "text/html": [
              "\n",
              "  <div id=\"df-72081d18-ced6-4335-a323-feed77a03e15\">\n",
              "    <div class=\"colab-df-container\">\n",
              "      <div>\n",
              "<style scoped>\n",
              "    .dataframe tbody tr th:only-of-type {\n",
              "        vertical-align: middle;\n",
              "    }\n",
              "\n",
              "    .dataframe tbody tr th {\n",
              "        vertical-align: top;\n",
              "    }\n",
              "\n",
              "    .dataframe thead th {\n",
              "        text-align: right;\n",
              "    }\n",
              "</style>\n",
              "<table border=\"1\" class=\"dataframe\">\n",
              "  <thead>\n",
              "    <tr style=\"text-align: right;\">\n",
              "      <th></th>\n",
              "      <th>Unnamed: 0</th>\n",
              "      <th>Unnamed: 0.1</th>\n",
              "      <th>loan_status</th>\n",
              "      <th>Principal</th>\n",
              "      <th>terms</th>\n",
              "      <th>effective_date</th>\n",
              "      <th>due_date</th>\n",
              "      <th>age</th>\n",
              "      <th>education</th>\n",
              "      <th>Gender</th>\n",
              "    </tr>\n",
              "  </thead>\n",
              "  <tbody>\n",
              "    <tr>\n",
              "      <th>0</th>\n",
              "      <td>1</td>\n",
              "      <td>1</td>\n",
              "      <td>PAIDOFF</td>\n",
              "      <td>1000</td>\n",
              "      <td>30</td>\n",
              "      <td>9/8/2016</td>\n",
              "      <td>10/7/2016</td>\n",
              "      <td>50</td>\n",
              "      <td>Bechalor</td>\n",
              "      <td>female</td>\n",
              "    </tr>\n",
              "    <tr>\n",
              "      <th>1</th>\n",
              "      <td>5</td>\n",
              "      <td>5</td>\n",
              "      <td>PAIDOFF</td>\n",
              "      <td>300</td>\n",
              "      <td>7</td>\n",
              "      <td>9/9/2016</td>\n",
              "      <td>9/15/2016</td>\n",
              "      <td>35</td>\n",
              "      <td>Master or Above</td>\n",
              "      <td>male</td>\n",
              "    </tr>\n",
              "    <tr>\n",
              "      <th>2</th>\n",
              "      <td>21</td>\n",
              "      <td>21</td>\n",
              "      <td>PAIDOFF</td>\n",
              "      <td>1000</td>\n",
              "      <td>30</td>\n",
              "      <td>9/10/2016</td>\n",
              "      <td>10/9/2016</td>\n",
              "      <td>43</td>\n",
              "      <td>High School or Below</td>\n",
              "      <td>female</td>\n",
              "    </tr>\n",
              "    <tr>\n",
              "      <th>3</th>\n",
              "      <td>24</td>\n",
              "      <td>24</td>\n",
              "      <td>PAIDOFF</td>\n",
              "      <td>1000</td>\n",
              "      <td>30</td>\n",
              "      <td>9/10/2016</td>\n",
              "      <td>10/9/2016</td>\n",
              "      <td>26</td>\n",
              "      <td>college</td>\n",
              "      <td>male</td>\n",
              "    </tr>\n",
              "    <tr>\n",
              "      <th>4</th>\n",
              "      <td>35</td>\n",
              "      <td>35</td>\n",
              "      <td>PAIDOFF</td>\n",
              "      <td>800</td>\n",
              "      <td>15</td>\n",
              "      <td>9/11/2016</td>\n",
              "      <td>9/25/2016</td>\n",
              "      <td>29</td>\n",
              "      <td>Bechalor</td>\n",
              "      <td>male</td>\n",
              "    </tr>\n",
              "  </tbody>\n",
              "</table>\n",
              "</div>\n",
              "      <button class=\"colab-df-convert\" onclick=\"convertToInteractive('df-72081d18-ced6-4335-a323-feed77a03e15')\"\n",
              "              title=\"Convert this dataframe to an interactive table.\"\n",
              "              style=\"display:none;\">\n",
              "        \n",
              "  <svg xmlns=\"http://www.w3.org/2000/svg\" height=\"24px\"viewBox=\"0 0 24 24\"\n",
              "       width=\"24px\">\n",
              "    <path d=\"M0 0h24v24H0V0z\" fill=\"none\"/>\n",
              "    <path d=\"M18.56 5.44l.94 2.06.94-2.06 2.06-.94-2.06-.94-.94-2.06-.94 2.06-2.06.94zm-11 1L8.5 8.5l.94-2.06 2.06-.94-2.06-.94L8.5 2.5l-.94 2.06-2.06.94zm10 10l.94 2.06.94-2.06 2.06-.94-2.06-.94-.94-2.06-.94 2.06-2.06.94z\"/><path d=\"M17.41 7.96l-1.37-1.37c-.4-.4-.92-.59-1.43-.59-.52 0-1.04.2-1.43.59L10.3 9.45l-7.72 7.72c-.78.78-.78 2.05 0 2.83L4 21.41c.39.39.9.59 1.41.59.51 0 1.02-.2 1.41-.59l7.78-7.78 2.81-2.81c.8-.78.8-2.07 0-2.86zM5.41 20L4 18.59l7.72-7.72 1.47 1.35L5.41 20z\"/>\n",
              "  </svg>\n",
              "      </button>\n",
              "      \n",
              "  <style>\n",
              "    .colab-df-container {\n",
              "      display:flex;\n",
              "      flex-wrap:wrap;\n",
              "      gap: 12px;\n",
              "    }\n",
              "\n",
              "    .colab-df-convert {\n",
              "      background-color: #E8F0FE;\n",
              "      border: none;\n",
              "      border-radius: 50%;\n",
              "      cursor: pointer;\n",
              "      display: none;\n",
              "      fill: #1967D2;\n",
              "      height: 32px;\n",
              "      padding: 0 0 0 0;\n",
              "      width: 32px;\n",
              "    }\n",
              "\n",
              "    .colab-df-convert:hover {\n",
              "      background-color: #E2EBFA;\n",
              "      box-shadow: 0px 1px 2px rgba(60, 64, 67, 0.3), 0px 1px 3px 1px rgba(60, 64, 67, 0.15);\n",
              "      fill: #174EA6;\n",
              "    }\n",
              "\n",
              "    [theme=dark] .colab-df-convert {\n",
              "      background-color: #3B4455;\n",
              "      fill: #D2E3FC;\n",
              "    }\n",
              "\n",
              "    [theme=dark] .colab-df-convert:hover {\n",
              "      background-color: #434B5C;\n",
              "      box-shadow: 0px 1px 3px 1px rgba(0, 0, 0, 0.15);\n",
              "      filter: drop-shadow(0px 1px 2px rgba(0, 0, 0, 0.3));\n",
              "      fill: #FFFFFF;\n",
              "    }\n",
              "  </style>\n",
              "\n",
              "      <script>\n",
              "        const buttonEl =\n",
              "          document.querySelector('#df-72081d18-ced6-4335-a323-feed77a03e15 button.colab-df-convert');\n",
              "        buttonEl.style.display =\n",
              "          google.colab.kernel.accessAllowed ? 'block' : 'none';\n",
              "\n",
              "        async function convertToInteractive(key) {\n",
              "          const element = document.querySelector('#df-72081d18-ced6-4335-a323-feed77a03e15');\n",
              "          const dataTable =\n",
              "            await google.colab.kernel.invokeFunction('convertToInteractive',\n",
              "                                                     [key], {});\n",
              "          if (!dataTable) return;\n",
              "\n",
              "          const docLinkHtml = 'Like what you see? Visit the ' +\n",
              "            '<a target=\"_blank\" href=https://colab.research.google.com/notebooks/data_table.ipynb>data table notebook</a>'\n",
              "            + ' to learn more about interactive tables.';\n",
              "          element.innerHTML = '';\n",
              "          dataTable['output_type'] = 'display_data';\n",
              "          await google.colab.output.renderOutput(dataTable, element);\n",
              "          const docLink = document.createElement('div');\n",
              "          docLink.innerHTML = docLinkHtml;\n",
              "          element.appendChild(docLink);\n",
              "        }\n",
              "      </script>\n",
              "    </div>\n",
              "  </div>\n",
              "  "
            ]
          },
          "metadata": {},
          "execution_count": 170
        }
      ],
      "source": [
        "test_df = pd.read_csv('loan_test.csv')\n",
        "test_df.head()"
      ]
    },
    {
      "cell_type": "code",
      "execution_count": 171,
      "metadata": {
        "id": "0buDSd7gPh7b"
      },
      "outputs": [],
      "source": [
        "# Preprocess test data in the same way of training data for relevant evaluation\n",
        "\n",
        "# Change date format \n",
        "test_df['due_date'] = pd.to_datetime(test_df['due_date'])\n",
        "test_df['effective_date'] = pd.to_datetime(test_df['effective_date'])\n",
        "\n",
        "# Add dayofweek and weekend columns\n",
        "test_df['effective_dayofweek'] = test_df['effective_date'].dt.dayofweek\n",
        "test_df['weekend'] = test_df['effective_dayofweek'].apply(lambda x: 1 if (x>3)  else 0)\n",
        "\n",
        "# test_df['due_dayofweek'] = test_df['due_date'].dt.dayofweek\n",
        "# test_df['due_weekend'] = test_df['due_dayofweek'].apply(lambda x: 1 if (x>3)  else 0)\n",
        "\n",
        "# One-hot encode Gender and education\n",
        "test_df['Gender'].replace(to_replace=['male', 'female'], value=[0, 1], inplace=True)\n",
        "\n",
        "test_Feature = test_df[['Principal', 'terms', 'age', 'Gender', 'weekend']]\n",
        "test_Feature = pd.concat([test_Feature, pd.get_dummies(test_df['education'])], axis=1)\n",
        "test_Feature.drop(['Master or Above'], axis = 1,inplace=True)\n",
        "\n",
        "# test_Feature = test_df[fset1]\n",
        "\n",
        "X_eval = test_Feature\n",
        "y_eval = test_df['loan_status'].replace(to_replace=['PAIDOFF', 'COLLECTION'], value=[0, 1])"
      ]
    },
    {
      "cell_type": "code",
      "execution_count": 172,
      "metadata": {
        "id": "okEVhi5rPh7b",
        "outputId": "e616812b-2dd4-4f81-d50e-8b310e73472b",
        "colab": {
          "base_uri": "https://localhost:8080/"
        }
      },
      "outputs": [
        {
          "output_type": "stream",
          "name": "stdout",
          "text": [
            "Jaccard Scores:\n",
            "\tk-NN Model: 0.3448275862068966\n",
            "\tDecision Tree: 0.4\n",
            "\tSupport Vector Machine: 0.25925925925925924\n",
            "\tLogistic Regression: 0.0\n",
            "\n"
          ]
        },
        {
          "output_type": "stream",
          "name": "stderr",
          "text": [
            "/usr/local/lib/python3.7/dist-packages/sklearn/base.py:444: UserWarning: X has feature names, but KNeighborsClassifier was fitted without feature names\n",
            "  f\"X has feature names, but {self.__class__.__name__} was fitted without\"\n",
            "/usr/local/lib/python3.7/dist-packages/sklearn/base.py:444: UserWarning: X has feature names, but DecisionTreeClassifier was fitted without feature names\n",
            "  f\"X has feature names, but {self.__class__.__name__} was fitted without\"\n",
            "/usr/local/lib/python3.7/dist-packages/sklearn/base.py:444: UserWarning: X has feature names, but SVC was fitted without feature names\n",
            "  f\"X has feature names, but {self.__class__.__name__} was fitted without\"\n",
            "/usr/local/lib/python3.7/dist-packages/sklearn/base.py:444: UserWarning: X has feature names, but LogisticRegression was fitted without feature names\n",
            "  f\"X has feature names, but {self.__class__.__name__} was fitted without\"\n"
          ]
        }
      ],
      "source": [
        "# Jaccard Scores\n",
        "\n",
        "knn_yhat = knn_model.predict(X_eval)\n",
        "dtree_yhat = dtree.predict(X_eval)\n",
        "svm_yhat = svm_model.predict(X_eval)\n",
        "logreg_yhat = log_reg.predict(X_eval)\n",
        "\n",
        "knn_jacscore = jaccard_score(y_eval, knn_yhat)\n",
        "dtree_jacscore = jaccard_score(y_eval, dtree_yhat)\n",
        "svm_jacscore = jaccard_score(y_eval, svm_yhat)\n",
        "logreg_jacscore = jaccard_score(y_eval, logreg_yhat)\n",
        "\n",
        "print(f\"\"\"Jaccard Scores:\n",
        "\\tk-NN Model: {knn_jacscore}\n",
        "\\tDecision Tree: {dtree_jacscore}\n",
        "\\tSupport Vector Machine: {svm_jacscore}\n",
        "\\tLogistic Regression: {logreg_jacscore}\n",
        "\"\"\")\n"
      ]
    },
    {
      "cell_type": "code",
      "execution_count": 173,
      "metadata": {
        "id": "3U7et0b4Ph7b",
        "outputId": "7fced6a5-755a-4f08-893c-bf64870fd810",
        "colab": {
          "base_uri": "https://localhost:8080/"
        }
      },
      "outputs": [
        {
          "output_type": "stream",
          "name": "stdout",
          "text": [
            "F1 Scores:\n",
            "\tk-NN Model: 0.5128205128205129\n",
            "\tDecision Tree: 0.5714285714285714\n",
            "\tSupport Vector Machine: 0.4117647058823529\n",
            "\tLogistic Regression: 0.0\n",
            "\n"
          ]
        }
      ],
      "source": [
        "# F1 Scores\n",
        "\n",
        "knn_f1score = f1_score(y_eval, knn_yhat)\n",
        "dtree_f1score = f1_score(y_eval, dtree_yhat)\n",
        "svm_f1score = f1_score(y_eval, svm_yhat)\n",
        "logreg_f1score = f1_score(y_eval, logreg_yhat)\n",
        "\n",
        "print(f\"\"\"F1 Scores:\n",
        "\\tk-NN Model: {knn_f1score}\n",
        "\\tDecision Tree: {dtree_f1score}\n",
        "\\tSupport Vector Machine: {svm_f1score}\n",
        "\\tLogistic Regression: {logreg_f1score}\n",
        "\"\"\")"
      ]
    },
    {
      "cell_type": "code",
      "execution_count": 174,
      "metadata": {
        "id": "JiBRqjEcPh7b",
        "outputId": "54d4ff8e-077e-4f66-809f-88af79c60ce9",
        "colab": {
          "base_uri": "https://localhost:8080/"
        }
      },
      "outputs": [
        {
          "output_type": "stream",
          "name": "stdout",
          "text": [
            "Log Loss of Logistic Regression: 8.95449758386582\n"
          ]
        },
        {
          "output_type": "stream",
          "name": "stderr",
          "text": [
            "/usr/local/lib/python3.7/dist-packages/sklearn/base.py:444: UserWarning: X has feature names, but LogisticRegression was fitted without feature names\n",
            "  f\"X has feature names, but {self.__class__.__name__} was fitted without\"\n"
          ]
        }
      ],
      "source": [
        "# Log Losses\n",
        "\n",
        "logreg_prob = log_reg.predict_proba(X_eval)\n",
        "\n",
        "logreg_logloss = log_loss(y_eval, logreg_prob)\n",
        "\n",
        "print(f\"Log Loss of Logistic Regression: {logreg_logloss}\")"
      ]
    },
    {
      "cell_type": "code",
      "execution_count": 175,
      "metadata": {
        "id": "7Zzh5X25Ph7b",
        "outputId": "c36c9f65-ef2b-4102-934d-8b8f3e60ee4c",
        "colab": {
          "base_uri": "https://localhost:8080/",
          "height": 175
        }
      },
      "outputs": [
        {
          "output_type": "execute_result",
          "data": {
            "text/plain": [
              "            Algorithm   Jaccard  F1-Score   LogLoss\n",
              "0                 KNN  0.344828  0.512821       NaN\n",
              "1       Decision Tree  0.400000  0.571429       NaN\n",
              "2                 SVM  0.259259  0.411765       NaN\n",
              "3  LogisticRegression  0.000000  0.000000  8.954498"
            ],
            "text/html": [
              "\n",
              "  <div id=\"df-e6c27428-b32d-4303-b69e-2a400bcf4308\">\n",
              "    <div class=\"colab-df-container\">\n",
              "      <div>\n",
              "<style scoped>\n",
              "    .dataframe tbody tr th:only-of-type {\n",
              "        vertical-align: middle;\n",
              "    }\n",
              "\n",
              "    .dataframe tbody tr th {\n",
              "        vertical-align: top;\n",
              "    }\n",
              "\n",
              "    .dataframe thead th {\n",
              "        text-align: right;\n",
              "    }\n",
              "</style>\n",
              "<table border=\"1\" class=\"dataframe\">\n",
              "  <thead>\n",
              "    <tr style=\"text-align: right;\">\n",
              "      <th></th>\n",
              "      <th>Algorithm</th>\n",
              "      <th>Jaccard</th>\n",
              "      <th>F1-Score</th>\n",
              "      <th>LogLoss</th>\n",
              "    </tr>\n",
              "  </thead>\n",
              "  <tbody>\n",
              "    <tr>\n",
              "      <th>0</th>\n",
              "      <td>KNN</td>\n",
              "      <td>0.344828</td>\n",
              "      <td>0.512821</td>\n",
              "      <td>NaN</td>\n",
              "    </tr>\n",
              "    <tr>\n",
              "      <th>1</th>\n",
              "      <td>Decision Tree</td>\n",
              "      <td>0.400000</td>\n",
              "      <td>0.571429</td>\n",
              "      <td>NaN</td>\n",
              "    </tr>\n",
              "    <tr>\n",
              "      <th>2</th>\n",
              "      <td>SVM</td>\n",
              "      <td>0.259259</td>\n",
              "      <td>0.411765</td>\n",
              "      <td>NaN</td>\n",
              "    </tr>\n",
              "    <tr>\n",
              "      <th>3</th>\n",
              "      <td>LogisticRegression</td>\n",
              "      <td>0.000000</td>\n",
              "      <td>0.000000</td>\n",
              "      <td>8.954498</td>\n",
              "    </tr>\n",
              "  </tbody>\n",
              "</table>\n",
              "</div>\n",
              "      <button class=\"colab-df-convert\" onclick=\"convertToInteractive('df-e6c27428-b32d-4303-b69e-2a400bcf4308')\"\n",
              "              title=\"Convert this dataframe to an interactive table.\"\n",
              "              style=\"display:none;\">\n",
              "        \n",
              "  <svg xmlns=\"http://www.w3.org/2000/svg\" height=\"24px\"viewBox=\"0 0 24 24\"\n",
              "       width=\"24px\">\n",
              "    <path d=\"M0 0h24v24H0V0z\" fill=\"none\"/>\n",
              "    <path d=\"M18.56 5.44l.94 2.06.94-2.06 2.06-.94-2.06-.94-.94-2.06-.94 2.06-2.06.94zm-11 1L8.5 8.5l.94-2.06 2.06-.94-2.06-.94L8.5 2.5l-.94 2.06-2.06.94zm10 10l.94 2.06.94-2.06 2.06-.94-2.06-.94-.94-2.06-.94 2.06-2.06.94z\"/><path d=\"M17.41 7.96l-1.37-1.37c-.4-.4-.92-.59-1.43-.59-.52 0-1.04.2-1.43.59L10.3 9.45l-7.72 7.72c-.78.78-.78 2.05 0 2.83L4 21.41c.39.39.9.59 1.41.59.51 0 1.02-.2 1.41-.59l7.78-7.78 2.81-2.81c.8-.78.8-2.07 0-2.86zM5.41 20L4 18.59l7.72-7.72 1.47 1.35L5.41 20z\"/>\n",
              "  </svg>\n",
              "      </button>\n",
              "      \n",
              "  <style>\n",
              "    .colab-df-container {\n",
              "      display:flex;\n",
              "      flex-wrap:wrap;\n",
              "      gap: 12px;\n",
              "    }\n",
              "\n",
              "    .colab-df-convert {\n",
              "      background-color: #E8F0FE;\n",
              "      border: none;\n",
              "      border-radius: 50%;\n",
              "      cursor: pointer;\n",
              "      display: none;\n",
              "      fill: #1967D2;\n",
              "      height: 32px;\n",
              "      padding: 0 0 0 0;\n",
              "      width: 32px;\n",
              "    }\n",
              "\n",
              "    .colab-df-convert:hover {\n",
              "      background-color: #E2EBFA;\n",
              "      box-shadow: 0px 1px 2px rgba(60, 64, 67, 0.3), 0px 1px 3px 1px rgba(60, 64, 67, 0.15);\n",
              "      fill: #174EA6;\n",
              "    }\n",
              "\n",
              "    [theme=dark] .colab-df-convert {\n",
              "      background-color: #3B4455;\n",
              "      fill: #D2E3FC;\n",
              "    }\n",
              "\n",
              "    [theme=dark] .colab-df-convert:hover {\n",
              "      background-color: #434B5C;\n",
              "      box-shadow: 0px 1px 3px 1px rgba(0, 0, 0, 0.15);\n",
              "      filter: drop-shadow(0px 1px 2px rgba(0, 0, 0, 0.3));\n",
              "      fill: #FFFFFF;\n",
              "    }\n",
              "  </style>\n",
              "\n",
              "      <script>\n",
              "        const buttonEl =\n",
              "          document.querySelector('#df-e6c27428-b32d-4303-b69e-2a400bcf4308 button.colab-df-convert');\n",
              "        buttonEl.style.display =\n",
              "          google.colab.kernel.accessAllowed ? 'block' : 'none';\n",
              "\n",
              "        async function convertToInteractive(key) {\n",
              "          const element = document.querySelector('#df-e6c27428-b32d-4303-b69e-2a400bcf4308');\n",
              "          const dataTable =\n",
              "            await google.colab.kernel.invokeFunction('convertToInteractive',\n",
              "                                                     [key], {});\n",
              "          if (!dataTable) return;\n",
              "\n",
              "          const docLinkHtml = 'Like what you see? Visit the ' +\n",
              "            '<a target=\"_blank\" href=https://colab.research.google.com/notebooks/data_table.ipynb>data table notebook</a>'\n",
              "            + ' to learn more about interactive tables.';\n",
              "          element.innerHTML = '';\n",
              "          dataTable['output_type'] = 'display_data';\n",
              "          await google.colab.output.renderOutput(dataTable, element);\n",
              "          const docLink = document.createElement('div');\n",
              "          docLink.innerHTML = docLinkHtml;\n",
              "          element.appendChild(docLink);\n",
              "        }\n",
              "      </script>\n",
              "    </div>\n",
              "  </div>\n",
              "  "
            ]
          },
          "metadata": {},
          "execution_count": 175
        }
      ],
      "source": [
        "report = {\n",
        "    'Algorithm': ['KNN', 'Decision Tree', 'SVM', 'LogisticRegression'],\n",
        "    'Jaccard': [knn_jacscore, dtree_jacscore, svm_jacscore, logreg_jacscore],\n",
        "    'F1-Score': [knn_f1score, dtree_f1score, svm_f1score, logreg_f1score],\n",
        "    'LogLoss': [None, None, None, logreg_logloss]\n",
        "}\n",
        "\n",
        "report_df = pd.DataFrame.from_dict(report)\n",
        "report_df"
      ]
    },
    {
      "cell_type": "markdown",
      "metadata": {
        "id": "eNjCvKdXPh7c"
      },
      "source": [
        "# Report\n",
        "\n",
        "You should be able to report the accuracy of the built model using different evaluation metrics:\n"
      ]
    },
    {
      "cell_type": "markdown",
      "metadata": {
        "id": "Ch9KyQTEPh7c"
      },
      "source": [
        "| Algorithm          | Jaccard | F1-score | LogLoss |\n",
        "| ------------------ | ------- | -------- | ------- |\n",
        "| KNN                | ?       | ?        | NA      |\n",
        "| Decision Tree      | ?       | ?        | NA      |\n",
        "| SVM                | ?       | ?        | NA      |\n",
        "| LogisticRegression | ?       | ?        | ?       |\n"
      ]
    },
    {
      "cell_type": "markdown",
      "metadata": {
        "button": false,
        "new_sheet": false,
        "run_control": {
          "read_only": false
        },
        "id": "oXMFjxyHPh7c"
      },
      "source": [
        "<h2>Want to learn more?</h2>\n",
        "\n",
        "IBM SPSS Modeler is a comprehensive analytics platform that has many machine learning algorithms. It has been designed to bring predictive intelligence to decisions made by individuals, by groups, by systems – by your enterprise as a whole. A free trial is available through this course, available here: <a href=\"http://cocl.us/ML0101EN-SPSSModeler?utm_medium=Exinfluencer&utm_source=Exinfluencer&utm_content=000026UJ&utm_term=10006555&utm_id=NA-SkillsNetwork-Channel-SkillsNetworkCoursesIBMDeveloperSkillsNetworkML0101ENSkillsNetwork20718538-2022-01-01\">SPSS Modeler</a>\n",
        "\n",
        "Also, you can use Watson Studio to run these notebooks faster with bigger datasets. Watson Studio is IBM's leading cloud solution for data scientists, built by data scientists. With Jupyter notebooks, RStudio, Apache Spark and popular libraries pre-packaged in the cloud, Watson Studio enables data scientists to collaborate on their projects without having to install anything. Join the fast-growing community of Watson Studio users today with a free account at <a href=\"https://cocl.us/ML0101EN_DSX?utm_medium=Exinfluencer&utm_source=Exinfluencer&utm_content=000026UJ&utm_term=10006555&utm_id=NA-SkillsNetwork-Channel-SkillsNetworkCoursesIBMDeveloperSkillsNetworkML0101ENSkillsNetwork20718538-2022-01-01\">Watson Studio</a>\n",
        "\n",
        "<h3>Thanks for completing this lesson!</h3>\n",
        "\n",
        "<h4>Author:  <a href=\"https://ca.linkedin.com/in/saeedaghabozorgi?utm_medium=Exinfluencer&utm_source=Exinfluencer&utm_content=000026UJ&utm_term=10006555&utm_id=NA-SkillsNetwork-Channel-SkillsNetworkCoursesIBMDeveloperSkillsNetworkML0101ENSkillsNetwork20718538-2022-01-01?utm_medium=Exinfluencer&utm_source=Exinfluencer&utm_content=000026UJ&utm_term=10006555&utm_id=NA-SkillsNetwork-Channel-SkillsNetworkCoursesIBMDeveloperSkillsNetworkML0101ENSkillsNetwork20718538-2022-01-01\">Saeed Aghabozorgi</a></h4>\n",
        "<p><a href=\"https://ca.linkedin.com/in/saeedaghabozorgi\">Saeed Aghabozorgi</a>, PhD is a Data Scientist in IBM with a track record of developing enterprise level applications that substantially increases clients’ ability to turn data into actionable knowledge. He is a researcher in data mining field and expert in developing advanced analytic methods like machine learning and statistical modelling on large datasets.</p>\n",
        "\n",
        "<hr>\n",
        "\n",
        "## Change Log\n",
        "\n",
        "| Date (YYYY-MM-DD) | Version | Changed By    | Change Description                                                             |\n",
        "| ----------------- | ------- | ------------- | ------------------------------------------------------------------------------ |\n",
        "| 2020-10-27        | 2.1     | Lakshmi Holla | Made changes in import statement due to updates in version of  sklearn library |\n",
        "| 2020-08-27        | 2.0     | Malika Singla | Added lab to GitLab                                                            |\n",
        "\n",
        "<hr>\n",
        "\n",
        "## <h3 align=\"center\"> © IBM Corporation 2020. All rights reserved. <h3/>\n",
        "\n",
        "<p>\n"
      ]
    }
  ],
  "metadata": {
    "kernelspec": {
      "display_name": "Python 3 (ipykernel)",
      "language": "python",
      "name": "python3"
    },
    "language_info": {
      "codemirror_mode": {
        "name": "ipython",
        "version": 3
      },
      "file_extension": ".py",
      "mimetype": "text/x-python",
      "name": "python",
      "nbconvert_exporter": "python",
      "pygments_lexer": "ipython3",
      "version": "3.9.13"
    },
    "colab": {
      "name": "sarit-final-assignment(loan-status-classifier).ipynb",
      "provenance": [],
      "collapsed_sections": []
    }
  },
  "nbformat": 4,
  "nbformat_minor": 0
}